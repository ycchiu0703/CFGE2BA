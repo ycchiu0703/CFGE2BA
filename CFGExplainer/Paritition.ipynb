{
 "cells": [
  {
   "cell_type": "code",
   "execution_count": 2,
   "metadata": {},
   "outputs": [],
   "source": [
    "import networkx as nx\n",
    "\n",
    "G = nx.read_gpickle('./data/padded_train/Malware/67bc86683b9b63d6c22f238c54c15e8e3cc4e80a14e0689363e7c5cb88941598.gpickle')"
   ]
  },
  {
   "cell_type": "code",
   "execution_count": 3,
   "metadata": {},
   "outputs": [
    {
     "data": {
      "text/plain": [
       "{'bName': '0x80482cc[10]',\n",
       " 'Start': 134513356,\n",
       " 'End': 134513364,\n",
       " 'Next': [134513376, 134513366],\n",
       " 'Ins': [(134513356, ['mov', 'ax, word ptr [ebp - 0x22]']),\n",
       "  (134513360, ['cmp', 'ax, 3']),\n",
       "  (134513364, ['je', '0x80482e0'])],\n",
       " 'Prev': [134513350],\n",
       " 'feat': [1.0, 0.0, 1.0, 0.0, 3.0, 1.0, 2.0, 0.2572375658618493]}"
      ]
     },
     "execution_count": 3,
     "metadata": {},
     "output_type": "execute_result"
    }
   ],
   "source": [
    "G.nodes[99]"
   ]
  },
  {
   "cell_type": "code",
   "execution_count": 4,
   "metadata": {},
   "outputs": [
    {
     "data": {
      "text/plain": [
       "OutMultiEdgeDataView([(98, 99), (98, 275)])"
      ]
     },
     "execution_count": 4,
     "metadata": {},
     "output_type": "execute_result"
    }
   ],
   "source": [
    "G.edges(98)"
   ]
  },
  {
   "cell_type": "code",
   "execution_count": 5,
   "metadata": {},
   "outputs": [],
   "source": [
    "weakly_connected_subgraphs = nx.weakly_connected_components(G)"
   ]
  },
  {
   "cell_type": "code",
   "execution_count": 6,
   "metadata": {},
   "outputs": [],
   "source": [
    "weakly_subgraphs = [subgraph for subgraph in weakly_connected_subgraphs if len(subgraph) > 2]"
   ]
  },
  {
   "cell_type": "code",
   "execution_count": 7,
   "metadata": {},
   "outputs": [
    {
     "data": {
      "text/plain": [
       "305"
      ]
     },
     "execution_count": 7,
     "metadata": {},
     "output_type": "execute_result"
    }
   ],
   "source": [
    "len(weakly_subgraphs[0])"
   ]
  },
  {
   "cell_type": "code",
   "execution_count": 8,
   "metadata": {},
   "outputs": [],
   "source": [
    "H = nx.read_gpickle('./interpretability_results/Malware/67bc86683b9b63d6c22f238c54c15e8e3cc4e80a14e0689363e7c5cb88941598./subgraph_10percent.gpickle')"
   ]
  },
  {
   "cell_type": "code",
   "execution_count": 9,
   "metadata": {},
   "outputs": [],
   "source": [
    "weakly_connected_subgraphs_H = nx.weakly_connected_components(H)"
   ]
  },
  {
   "cell_type": "code",
   "execution_count": 10,
   "metadata": {},
   "outputs": [],
   "source": [
    "weakly_subgraphs_H = [subgraph for subgraph in weakly_connected_subgraphs_H if len(subgraph) >= 2]"
   ]
  },
  {
   "cell_type": "code",
   "execution_count": 39,
   "metadata": {},
   "outputs": [
    {
     "data": {
      "text/plain": [
       "[{47, 49, 51, 54, 55, 57, 58, 60, 271, 272},\n",
       " {98, 99, 100, 101, 102, 103, 118},\n",
       " {144, 147, 148, 151, 152, 154, 279, 281},\n",
       " {162,\n",
       "  165,\n",
       "  166,\n",
       "  167,\n",
       "  168,\n",
       "  169,\n",
       "  170,\n",
       "  171,\n",
       "  172,\n",
       "  173,\n",
       "  174,\n",
       "  175,\n",
       "  176,\n",
       "  177,\n",
       "  178,\n",
       "  179,\n",
       "  184,\n",
       "  185,\n",
       "  186,\n",
       "  187,\n",
       "  196,\n",
       "  197,\n",
       "  200,\n",
       "  203,\n",
       "  210,\n",
       "  211,\n",
       "  212,\n",
       "  221,\n",
       "  223,\n",
       "  224,\n",
       "  285}]"
      ]
     },
     "execution_count": 39,
     "metadata": {},
     "output_type": "execute_result"
    }
   ],
   "source": [
    "weakly_subgraphs_H"
   ]
  },
  {
   "cell_type": "code",
   "execution_count": 103,
   "metadata": {},
   "outputs": [
    {
     "data": {
      "text/plain": [
       "NodeView((0, 1, 2, 3, 4, 5, 6, 7, 8, 9, 10, 11, 12, 13, 14, 15, 16, 17, 18, 19, 20, 21, 22, 23, 24, 25, 26, 27, 28, 29, 30, 31, 32, 33, 34, 35, 36, 37, 38, 39, 40, 41, 42, 43, 44, 45, 46, 47, 48, 49, 50, 51, 52, 53, 54, 55, 56, 57, 58, 59, 60, 61, 62, 63, 64, 65, 66, 67, 68, 69, 70, 71, 72, 73, 74, 75, 76, 77, 78, 79, 80, 81, 82, 83, 84, 85, 86, 87, 88, 89, 90, 91, 92, 93, 94, 95, 96, 97, 98, 99, 100, 101, 102, 103, 104, 105, 106, 107, 108, 109, 110, 111, 112, 113, 114, 115, 116, 117, 118, 119, 120, 121, 122, 123, 124, 125, 126, 127, 128, 129, 130, 131, 132, 133, 134, 135, 136, 137, 138, 139, 140, 141, 142, 143, 144, 145, 146, 147, 148, 149, 150, 151, 152, 153, 154, 155, 156, 157, 158, 159, 160, 161, 162, 163, 164, 165, 166, 167, 168, 169, 170, 171, 172, 173, 174, 175, 176, 177, 178, 179, 180, 181, 182, 183, 184, 185, 186, 187, 188, 189, 190, 191, 192, 193, 194, 195, 196, 197, 198, 199, 200, 201, 202, 203, 204, 205, 206, 207, 208, 209, 210, 211, 212, 213, 214, 215, 216, 217, 218, 219, 220, 221, 222, 223, 224, 225, 226, 227, 228, 229, 230, 231, 232, 233, 234, 235, 236, 237, 238, 239, 240, 241, 242, 243, 244, 245, 246, 247, 248, 249, 250, 251, 252, 253, 254, 255, 256, 257, 258, 259, 260, 261, 262, 263, 264, 265, 266, 267, 268, 269, 270, 271, 272, 273, 274, 275, 276, 277, 278, 279, 280, 281, 282, 283, 284, 285, 286, 287, 288, 289, 290, 291, 292, 293, 294, 295, 296, 297, 298, 299, 300, 301, 302, 303, 304))"
      ]
     },
     "execution_count": 103,
     "metadata": {},
     "output_type": "execute_result"
    }
   ],
   "source": [
    "G.nodes()"
   ]
  },
  {
   "cell_type": "code",
   "execution_count": 321,
   "metadata": {},
   "outputs": [],
   "source": [
    "summary_dir = '/mnt/bigDisk/leon/rtools/CFGs/x86/'\n",
    "filename = '67bc86683b9b63d6c22f238c54c15e8e3cc4e80a14e0689363e7c5cb88941598'\n",
    "ACFG = nx.read_gpickle(summary_dir + filename + '.pickle')\n",
    "ACFG = nx.MultiDiGraph(ACFG)"
   ]
  },
  {
   "cell_type": "code",
   "execution_count": 322,
   "metadata": {},
   "outputs": [],
   "source": [
    "def Caculate_ACFG_boundary(ACFG): \n",
    "    ACFG_Start = int(ACFG.nodes[0]['x'][0][0].split('[')[0], 16)\n",
    "    ACFG_End = int(ACFG.nodes[0]['x'][-1][0].split('[')[0], 16)\n",
    "    for node, data in ACFG.nodes(data=True):\n",
    "        if \"temp\" in str(node):\n",
    "            continue\n",
    "        Start = int(data['x'][0][0].split('[')[0], 16)\n",
    "        End = int(data['x'][-1][0].split('[')[0], 16)\n",
    "        if Start < ACFG_Start:\n",
    "            ACFG_Start = Start\n",
    "        if ACFG_End < End:\n",
    "            ACFG_End = End\n",
    "    if ACFG_End % 2:\n",
    "        ACFG_End += 1\n",
    "    return ACFG_Start, ACFG_End"
   ]
  },
  {
   "cell_type": "code",
   "execution_count": 323,
   "metadata": {},
   "outputs": [],
   "source": [
    "def Partition(node, addr):\n",
    "    \n",
    "    if len(ACFG.nodes[node]['x']) < 2:\n",
    "        return\n",
    "    part_ins = ACFG.nodes[node]['x'][:-1]\n",
    "    ACFG.nodes[node]['x'] = [[ACFG.nodes[node]['x'][0][0]] + ACFG.nodes[node]['x'][-1][1:]]\n",
    "    ACFG.nodes[node]['NodeName'] = 'Partition_Node_' + str(node) + '_' + str(len(part_ins))\n",
    "    in_nodes = [edge[0] for edge in ACFG.in_edges(node)]\n",
    "\n",
    "    edges_to_remove = list(ACFG.in_edges(node))\n",
    "    ACFG.remove_edges_from(edges_to_remove)\n",
    "    FirstNode = True\n",
    "    for i, ins in enumerate(part_ins):\n",
    "        part_cnt = len(ACFG.nodes)\n",
    "        NName = 'Partition_Node_' + str(node) + '-' + str(i)\n",
    "        newnode = part_cnt\n",
    "        ins[0] = str(hex(addr))\n",
    "        addr += 4\n",
    "        newins = [ins, [str(hex(addr)), 'jmp ' + str(hex(addr + 4))]]\n",
    "        addr += 4\n",
    "        ACFG.add_node(newnode, x = newins, NodeName = NName)\n",
    "        for in_node in in_nodes:\n",
    "            ACFG.add_edge(in_node, newnode)\n",
    "            if FirstNode: \n",
    "                if ACFG.nodes[in_node]['x'][-1][1].split()[-1] == ACFG.nodes[node]['x'][0][0]:\n",
    "                    ACFG.nodes[in_node]['x'][-1][1].split()[-1] = ACFG.nodes[newnode]['x'][0][0]\n",
    "                else:\n",
    "                    ACFG.nodes[in_node]['x'] += [[str(hex(int(ACFG.nodes[in_node]['x'][-1][0], 16) + 4 )), 'jmp ' + ACFG.nodes[newnode]['x'][0][0]]]\n",
    "        in_nodes = [newnode]\n",
    "        FirstNode = False\n",
    "    ACFG.nodes[newnode]['x'][-1][1] = 'jmp ' + str(ACFG.nodes[99]['x'][0][0])\n",
    "\n",
    "    ACFG.add_edge(in_nodes[0], node)    \n",
    "    return addr"
   ]
  },
  {
   "cell_type": "code",
   "execution_count": 324,
   "metadata": {},
   "outputs": [
    {
     "name": "stdout",
     "output_type": "stream",
     "text": [
      "start 305\n",
      "134512756 137363598\n",
      "to 99: 305\n",
      "to 98: 305\n",
      "to 55: 305\n",
      "to 177: 305\n",
      "to 166: 305\n",
      "134512756 137363806\n"
     ]
    }
   ],
   "source": [
    "part_cnt = len(ACFG.nodes)\n",
    "print('start', part_cnt)\n",
    "ACFG_Start, ACFG_End = Caculate_ACFG_boundary(ACFG)\n",
    "print(ACFG_Start, ACFG_End)\n",
    "addr = ACFG_End + 4\n",
    "addr = Partition(99, addr)\n",
    "print('to 99:', part_cnt)\n",
    "addr = Partition(98, addr)\n",
    "print('to 98:', part_cnt)\n",
    "addr = Partition(55, addr)\n",
    "print('to 55:', part_cnt)\n",
    "addr = Partition(171, addr)\n",
    "print('to 177:', part_cnt)\n",
    "addr = Partition(166, addr)\n",
    "print('to 166:', part_cnt)\n",
    "ACFG_Start, ACFG_End = Caculate_ACFG_boundary(ACFG)\n",
    "print(ACFG_Start, ACFG_End)"
   ]
  },
  {
   "cell_type": "code",
   "execution_count": 330,
   "metadata": {},
   "outputs": [
    {
     "data": {
      "text/plain": [
       "{'bName': '0x80482cc[10]',\n",
       " 'x': [['0x80482cc', 'je 0x80482e0']],\n",
       " 'NodeName': 'Partition_Node_99-2'}"
      ]
     },
     "execution_count": 330,
     "metadata": {},
     "output_type": "execute_result"
    }
   ],
   "source": [
    "ACFG.nodes[99]"
   ]
  },
  {
   "cell_type": "code",
   "execution_count": 291,
   "metadata": {},
   "outputs": [],
   "source": [
    "from Generate_poison_data import Generate_ACFG_Node_Attributes, Append_temp_nodes\n",
    "ACFG = Generate_ACFG_Node_Attributes(ACFG)\n",
    "if ACFG.number_of_nodes() < 4096:\n",
    "    ACFG = Append_temp_nodes(ACFG)\n",
    "nx.write_gpickle(ACFG, '/home/ycchiu/git-rep/CFGE2BA/CFGExplainer/Partition_samples/padded_train/' + filename + \".gpickle\")      "
   ]
  },
  {
   "cell_type": "code",
   "execution_count": 248,
   "metadata": {},
   "outputs": [
    {
     "name": "stdout",
     "output_type": "stream",
     "text": [
      "[['0x80482ba', 'jmp 0x8300092']]\n",
      "[(98, 275), (98, 'Partition_Node_0')]\n",
      "[('Partition_Node_5', 98)]\n"
     ]
    }
   ],
   "source": [
    "print(ACFG.nodes[98]['x'])\n",
    "print(ACFG.edges(98))\n",
    "print(ACFG.in_edges(98))"
   ]
  },
  {
   "cell_type": "code",
   "execution_count": 239,
   "metadata": {},
   "outputs": [
    {
     "name": "stdout",
     "output_type": "stream",
     "text": [
      "[['0x8300092', 'mov ax, word ptr [ebp - 0x22]'], ['0x8300096', 'jmp 0x830009a']]\n",
      "[('Partition_Node_0', 'Partition_Node_1')]\n",
      "[(98, 'Partition_Node_0')]\n"
     ]
    }
   ],
   "source": [
    "print(ACFG.nodes['Partition_Node_0']['x'])\n",
    "print(ACFG.edges('Partition_Node_0'))\n",
    "print(ACFG.in_edges('Partition_Node_0'))"
   ]
  },
  {
   "cell_type": "code",
   "execution_count": 236,
   "metadata": {},
   "outputs": [
    {
     "name": "stdout",
     "output_type": "stream",
     "text": [
      "[['0x830009a', 'cmp ax, 3'], ['0x830009e', 'jmp 0x80482cc']]\n",
      "[('Partition_Node_1', 99)]\n",
      "[('Partition_Node_0', 'Partition_Node_1')]\n"
     ]
    }
   ],
   "source": [
    "print(ACFG.nodes['Partition_Node_1']['x'])\n",
    "print(ACFG.edges('Partition_Node_1'))\n",
    "print(ACFG.in_edges('Partition_Node_1'))"
   ]
  },
  {
   "cell_type": "code",
   "execution_count": 235,
   "metadata": {},
   "outputs": [
    {
     "name": "stdout",
     "output_type": "stream",
     "text": [
      "[['0x80482cc', 'je 0x80482e0']]\n",
      "[(99, 100), (99, 101)]\n",
      "[('Partition_Node_1', 99)]\n"
     ]
    }
   ],
   "source": [
    "print(ACFG.nodes[99]['x'])\n",
    "print(ACFG.edges(99))\n",
    "print(ACFG.in_edges(99))"
   ]
  },
  {
   "cell_type": "code",
   "execution_count": 296,
   "metadata": {},
   "outputs": [],
   "source": [
    "G = nx.read_gpickle('/home/ycchiu/git-rep/CFGE2BA/CFGExplainer/interpretability_results/Malware/67bc86683b9b63d6c22f238c54c15e8e3cc4e80a14e0689363e7c5cb88941598./subgraph_10percent.gpickle')\n",
    "weakly_connected_subgraphs_G = nx.weakly_connected_components(G)"
   ]
  },
  {
   "cell_type": "code",
   "execution_count": 297,
   "metadata": {},
   "outputs": [
    {
     "data": {
      "text/plain": [
       "<generator object weakly_connected_components at 0x7f728549b6d0>"
      ]
     },
     "execution_count": 297,
     "metadata": {},
     "output_type": "execute_result"
    }
   ],
   "source": [
    "weakly_connected_subgraphs_G"
   ]
  },
  {
   "cell_type": "code",
   "execution_count": 298,
   "metadata": {},
   "outputs": [],
   "source": [
    "weakly_subgraphs_G = [subgraph for subgraph in weakly_connected_subgraphs_G if len(subgraph) >= 2]"
   ]
  },
  {
   "cell_type": "code",
   "execution_count": 310,
   "metadata": {},
   "outputs": [
    {
     "data": {
      "text/plain": [
       "[{55, 57, 60, 272, 320},\n",
       " {99, 100, 101, 102, 103, 115, 116, 117, 118, 121, 306},\n",
       " {130, 134, 136, 277},\n",
       " {144, 147, 148, 151, 152, 154, 279, 281},\n",
       " {171,\n",
       "  174,\n",
       "  175,\n",
       "  176,\n",
       "  177,\n",
       "  178,\n",
       "  179,\n",
       "  184,\n",
       "  185,\n",
       "  186,\n",
       "  187,\n",
       "  196,\n",
       "  197,\n",
       "  200,\n",
       "  202,\n",
       "  203,\n",
       "  210,\n",
       "  211,\n",
       "  212,\n",
       "  218,\n",
       "  219,\n",
       "  220,\n",
       "  221,\n",
       "  223,\n",
       "  224,\n",
       "  228,\n",
       "  229,\n",
       "  232,\n",
       "  283,\n",
       "  285,\n",
       "  325}]"
      ]
     },
     "execution_count": 310,
     "metadata": {},
     "output_type": "execute_result"
    }
   ],
   "source": [
    "weakly_subgraphs_G"
   ]
  },
  {
   "cell_type": "code",
   "execution_count": 315,
   "metadata": {},
   "outputs": [
    {
     "name": "stdout",
     "output_type": "stream",
     "text": [
      "[99, 306, 100, 148, 57, 211, 102, 185, 218, 174, 55, 60, 210, 151, 279, 272, 320, 197, 224, 221, 171, 177, 118, 179, 203, 154, 144, 147, 281, 103, 101, 196, 223, 285, 220, 187, 176, 212, 178, 202, 283, 325, 134, 277, 175, 186, 152, 130, 219, 200, 184, 136, 115, 232, 117, 121, 140, 155, 192, 209, 216, 229, 255, 258, 287, 228, 116, 127, 131, 133, 278, 143, 260, 225, 205, 259, 324, 124, 126, 122, 180, 198, 230, 233, 195, 207, 217, 227, 238, 262, 280, 145, 206, 226, 234, 237, 261, 282, 284, 286, 254, 215, 191, 172, 183, 123, 235, 239, 128, 138, 146, 129, 181, 199, 231, 240, 135, 142, 159, 160, 189, 194, 204, 214, 242, 244, 247, 253, 132, 149, 150, 182, 241, 208, 236, 28, 52, 252, 213, 257, 188, 222, 201, 137, 95, 157, 164, 139, 243, 156, 248, 32, 96, 98, 161, 165, 170, 37, 49, 63, 67, 71, 250, 34, 249, 275, 74, 104, 61, 270, 319, 158, 54, 162, 166, 169, 47, 73, 58, 329, 72, 44, 330, 39, 56, 97, 251, 3, 7, 76, 106, 110, 269, 0, 11, 40, 59, 114, 256, 173, 310, 51, 75, 141, 48, 64, 193, 26, 5, 190, 27, 65, 84, 297, 296, 108, 167, 21, 85, 120, 298, 14, 42, 81, 87, 107, 12, 41, 50, 86, 276, 299, 43, 62, 305, 292, 291, 293, 294, 82, 304, 1, 309, 112, 16, 25, 245, 109, 29, 69, 22, 23, 88, 300, 168, 113, 290, 78, 89, 119, 268, 273, 45, 301, 77, 125, 53, 246, 307, 163, 111, 46, 70, 308, 24, 30, 295, 302, 289, 66, 13, 33, 91, 17, 80, 105, 303, 315, 322, 327, 15, 36, 68, 79, 288, 314, 321, 326, 328, 318, 323, 312, 313, 316, 317, 19, 93, 311, 271, 20, 83, 4, 35, 274, 6, 38, 92, 10, 31, 263, 264, 265, 266, 267, 2, 8, 9, 18, 90, 94, 153]\n"
     ]
    }
   ],
   "source": [
    "import pickle\n",
    "\n",
    "with open(\"/home/ycchiu/git-rep/CFGE2BA/CFGExplainer/interpretability_results/Malware/67bc86683b9b63d6c22f238c54c15e8e3cc4e80a14e0689363e7c5cb88941598/top_blocks.pickle\", \"rb\") as f:\n",
    "    data = pickle.load(f)\n",
    "\n",
    "print(data)\n"
   ]
  },
  {
   "cell_type": "code",
   "execution_count": 377,
   "metadata": {},
   "outputs": [
    {
     "data": {
      "text/plain": [
       "<networkx.classes.multidigraph.MultiDiGraph at 0x7f729ccb8d60>"
      ]
     },
     "execution_count": 377,
     "metadata": {},
     "output_type": "execute_result"
    }
   ],
   "source": [
    "trigger = nx.read_gpickle('./trigger/trigger.gpickle')\n",
    "trigger"
   ]
  },
  {
   "cell_type": "code",
   "execution_count": 389,
   "metadata": {},
   "outputs": [
    {
     "data": {
      "text/plain": [
       "{'bName': '0x40b8d7[3]',\n",
       " 'Start': 4241623,\n",
       " 'End': 4241624,\n",
       " 'Next': [],\n",
       " 'Ins': [(4241623, ['pop', 'rbp']), (4241624, ['jmp', 'rax'])],\n",
       " 'Prev': [4241621],\n",
       " 'feat': [0.0, 0.0, 1.0, 0.0, 2.0, 0.0, 0.0, 0.0],\n",
       " 'NodeName': 'Trigger_Node_3'}"
      ]
     },
     "execution_count": 389,
     "metadata": {},
     "output_type": "execute_result"
    }
   ],
   "source": [
    "trigger.nodes['Trigger_Node_3']"
   ]
  },
  {
   "cell_type": "code",
   "execution_count": 356,
   "metadata": {},
   "outputs": [
    {
     "data": {
      "text/plain": [
       "4096"
      ]
     },
     "execution_count": 356,
     "metadata": {},
     "output_type": "execute_result"
    }
   ],
   "source": [
    "len(G.nodes)"
   ]
  },
  {
   "cell_type": "code",
   "execution_count": 396,
   "metadata": {},
   "outputs": [],
   "source": [
    "T = nx.read_gpickle('./ACFGs/Poison/Benign/0a3381f927c973087c31b1d4382ca2ef5c69579b3a0e4897c01f25db58de42a7.gpickle')"
   ]
  },
  {
   "cell_type": "code",
   "execution_count": 397,
   "metadata": {},
   "outputs": [
    {
     "name": "stdout",
     "output_type": "stream",
     "text": [
      "{'Start': 4238134, 'End': 4238150, 'Next': [], 'Ins': [(4238134, ['pop', 'rbx']), (4238135, ['mov', 'dword ptr [rip + 0x2224ca], r11d']), (4238142, ['mov', 'qword ptr [rip + 0x2224bb], r10']), (4238149, ['pop', 'rbp']), (4238150, ['ret', ''])], 'Prev': [4237994, 4241624], 'feat': [0.0, 0.0, 4.0, 0.0, 5.0, 0.0, 0.0, 0.0]}\n",
      "{'Start': 4238000, 'End': 4238009, 'Next': [4238022, 4238011], 'Ins': [(4238000, ['movzx', 'edx, byte ptr [r9]']), (4238004, ['mov', 'bpl, 1']), (4238007, ['test', 'dl, dl']), (4238009, ['je', '0x40aac6'])], 'Prev': [4237994], 'feat': [1.0, 0.0, 1.0, 0.0, 4.0, 1.0, 2.0, 0.15384615384615385]}\n",
      "{'Start': 4238084, 'End': 4238098, 'Next': [4238045, 4238100], 'Ins': [(4238084, ['lea', 'rax, [rip + 0x1a135]']), (4238091, ['movsx', 'eax, word ptr [rax + rsi*2]']), (4238095, ['cmp', 'eax, 0x58']), (4238098, ['jle', '0x40aadd'])], 'Prev': [4238082], 'feat': [2.0, 0.0, 1.0, 0.0, 4.0, 1.0, 2.0, 0.04487179487179487]}\n",
      "{'Start': 4238113, 'End': 4238129, 'Next': [4237991], 'Ins': [(4238113, ['lea', 'rax, [rip + 0x19f98]']), (4238120, ['mov', 'edx, edx']), (4238122, ['inc', 'r9']), (4238125, ['movsx', 'eax, word ptr [rax + rdx*2]']), (4238129, ['jmp', '0x40aaa7'])], 'Prev': [4238082], 'feat': [1.0, 0.0, 2.0, 0.0, 5.0, 1.0, 1.0, 0.15384615384615385]}\n",
      "{'Start': 4238045, 'End': 4238082, 'Next': [4238084, 4238113], 'Ins': [(4238045, ['lea', 'rdx, [rip + 0x1a21c]']), (4238052, ['movsxd', 'rsi, eax']), (4238055, ['movzx', 'ecx, bpl']), (4238059, ['lea', 'rdi, [rip + 0x19e4e]']), (4238066, ['movsx', 'edx, word ptr [rdx + rsi*2]']), (4238070, ['add', 'edx, ecx']), (4238072, ['movsxd', 'r8, edx']), (4238075, ['movsx', 'edi, word ptr [rdi + r8*2]']), (4238080, ['cmp', 'edi, eax']), (4238082, ['je', '0x40ab21'])], 'Prev': [4238098, 4238111, 4238041], 'feat': [2.0, 0.0, 2.0, 0.0, 10.0, 2.0, 2.0, 0.25]}\n",
      "{'Start': 4238100, 'End': 4238111, 'Next': [4238045], 'Ins': [(4238100, ['lea', 'rdx, [rip + 0x1a2a5]']), (4238107, ['mov', 'bpl, byte ptr [rdx + rcx*4]']), (4238111, ['jmp', '0x40aadd'])], 'Prev': [4238098], 'feat': [1.0, 0.0, 2.0, 0.0, 3.0, 0.0, 1.0, 0.0]}\n",
      "{'Start': 4237991, 'End': 4237994, 'Next': [4238134, 4238000], 'Ins': [(4237991, ['cmp', 'r9, rbx']), (4237994, ['jae', '0x40ab36'])], 'Prev': [4238129, 4237984], 'feat': [0.0, 0.0, 0.0, 0.0, 2.0, 1.0, 2.0, 0.21153846153846154]}\n",
      "{'Start': 4237952, 'End': 4237984, 'Next': [4237991], 'Ins': [(4237952, ['lea', 'rdx, [rip + 0x2246b1]']), (4237959, ['push', 'rbp']), (4237960, ['mov', 'eax, dword ptr [rip + 0x222582]']), (4237966, ['push', 'rbx']), (4237967, ['mov', 'r11d, dword ptr [rip + 0x222572]']), (4237974, ['mov', 'rbx, qword ptr [rip + 0x22257b]']), (4237981, ['mov', 'r9, qword ptr [rdx]']), (4237984, ['mov', 'r10, qword ptr [rip + 0x222559]'])], 'Prev': [], 'feat': [1.0, 0.0, 8.0, 0.0, 8.0, 0.0, 1.0, 0.0]}\n",
      "{'Start': 4238022, 'End': 4238041, 'Next': [4238045], 'Ins': [(4238022, ['lea', 'rdx, [rip + 0x1a7b3]']), (4238029, ['movsxd', 'rcx, eax']), (4238032, ['cmp', 'word ptr [rdx + rcx*2], 0']), (4238037, ['cmovne', 'r10, r9']), (4238041, ['cmovne', 'r11d, eax'])], 'Prev': [4238009, 4238018], 'feat': [1.0, 0.0, 1.0, 0.0, 5.0, 1.0, 1.0, 0.15384615384615385]}\n",
      "{'Start': 4238011, 'End': 4238018, 'Next': [4238022], 'Ins': [(4238011, ['lea', 'rcx, [rip + 0x1a3be]']), (4238018, ['mov', 'bpl, byte ptr [rcx + rdx*4]'])], 'Prev': [4238009], 'feat': [1.0, 0.0, 2.0, 0.0, 2.0, 0.0, 1.0, 0.0]}\n",
      "{'bName': '0x40b8b0[27]', 'Start': 4241584, 'End': 4241609, 'Next': [4241632, 4241611], 'Ins': [(4241584, ['lea', 'rdi, [rip + 0x22b431]']), (4241591, ['lea', 'rax, [rip + 0x22b431]']), (4241598, ['push', 'rbp']), (4241599, ['sub', 'rax, rdi']), (4241602, ['mov', 'rbp, rsp']), (4241605, ['cmp', 'rax, 0xe']), (4241609, ['jbe', '0x40b8e0'])], 'Prev': [], 'feat': [3.0, 0.0, 4.0, 0.0, 7.0, 2.0, 2.0, 0.0], 'NodeName': 'Trigger_Node_0'}\n",
      "{'bName': '0x40b8e0[2]', 'Start': 4241632, 'End': 4241633, 'Next': [], 'Ins': [(4241632, ['pop', 'rbp']), (4241633, ['ret', ''])], 'Prev': [4241609, 4241621], 'feat': [0.0, 0.0, 1.0, 0.0, 2.0, 0.0, 0.0, 0.0], 'NodeName': 'Trigger_Node_1'}\n",
      "{'bName': '0x40b8cb[12]', 'Start': 4241611, 'End': 4241621, 'Next': [4241632, 4241623], 'Ins': [(4241611, ['mov', 'rax, qword ptr [rip + 0x22a706]']), (4241618, ['test', 'rax, rax']), (4241621, ['je', '0x40b8e0'])], 'Prev': [4241609], 'feat': [0.0, 0.0, 1.0, 0.0, 3.0, 1.0, 2.0, 0.01282051282051282], 'NodeName': 'Trigger_Node_2'}\n",
      "{'bName': '0x40b8d7[3]', 'Start': 4241623, 'End': 4241624, 'Next': [4238134], 'Ins': [(4241623, ['pop', 'rbp']), (4241624, ['jmp', 'rax']), (4241628, ['jmp', '4238134'])], 'Prev': [4241621], 'feat': [0.0, 0.0, 1.0, 0.0, 2.0, 0.0, 0.0, 0.01282051282051282], 'NodeName': 'Trigger_Node_3'}\n"
     ]
    }
   ],
   "source": [
    "for node, data in T.nodes(data = True):\n",
    "    if \"temp\" in str(node):\n",
    "        continue\n",
    "    print(data)"
   ]
  },
  {
   "cell_type": "code",
   "execution_count": 403,
   "metadata": {},
   "outputs": [
    {
     "data": {
      "text/plain": [
       "{'bName': '0x40b8d7[3]',\n",
       " 'Start': 4241623,\n",
       " 'End': 4241624,\n",
       " 'Next': [4238134],\n",
       " 'Ins': [(4241623, ['pop', 'rbp']),\n",
       "  (4241624, ['jmp', 'rax']),\n",
       "  (4241628, ['jmp', '4238134'])],\n",
       " 'Prev': [4241621],\n",
       " 'feat': [0.0, 0.0, 1.0, 0.0, 2.0, 0.0, 0.0, 0.01282051282051282],\n",
       " 'NodeName': 'Trigger_Node_3'}"
      ]
     },
     "execution_count": 403,
     "metadata": {},
     "output_type": "execute_result"
    }
   ],
   "source": [
    "T.nodes[13]"
   ]
  },
  {
   "cell_type": "code",
   "execution_count": 411,
   "metadata": {},
   "outputs": [
    {
     "data": {
      "text/plain": [
       "{'Start': 4238000,\n",
       " 'End': 4238009,\n",
       " 'Next': [4238022, 4238011],\n",
       " 'Ins': [(4238000, ['movzx', 'edx, byte ptr [r9]']),\n",
       "  (4238004, ['mov', 'bpl, 1']),\n",
       "  (4238007, ['test', 'dl, dl']),\n",
       "  (4238009, ['je', '0x40aac6'])],\n",
       " 'Prev': [4237994],\n",
       " 'feat': [1.0, 0.0, 1.0, 0.0, 4.0, 1.0, 2.0, 0.15384615384615385]}"
      ]
     },
     "execution_count": 411,
     "metadata": {},
     "output_type": "execute_result"
    }
   ],
   "source": []
  },
  {
   "cell_type": "code",
   "execution_count": null,
   "metadata": {},
   "outputs": [],
   "source": []
  },
  {
   "cell_type": "code",
   "execution_count": null,
   "metadata": {},
   "outputs": [],
   "source": []
  }
 ],
 "metadata": {
  "kernelspec": {
   "display_name": "ycc3",
   "language": "python",
   "name": "python3"
  },
  "language_info": {
   "codemirror_mode": {
    "name": "ipython",
    "version": 3
   },
   "file_extension": ".py",
   "mimetype": "text/x-python",
   "name": "python",
   "nbconvert_exporter": "python",
   "pygments_lexer": "ipython3",
   "version": "3.8.5"
  },
  "orig_nbformat": 4,
  "vscode": {
   "interpreter": {
    "hash": "a1e9a2ec6f83c31261138e1f46ad2074fe78ef006d81e8b7b9cd49b918c29c0b"
   }
  }
 },
 "nbformat": 4,
 "nbformat_minor": 2
}
