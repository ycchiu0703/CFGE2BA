{
 "cells": [
  {
   "cell_type": "code",
   "execution_count": 2,
   "metadata": {},
   "outputs": [],
   "source": [
    "import networkx as nx\n",
    "\n",
    "G = nx.read_gpickle('./data/padded_train/Malware/67bc86683b9b63d6c22f238c54c15e8e3cc4e80a14e0689363e7c5cb88941598.gpickle')"
   ]
  },
  {
   "cell_type": "code",
   "execution_count": 3,
   "metadata": {},
   "outputs": [
    {
     "data": {
      "text/plain": [
       "{'bName': '0x80482cc[10]',\n",
       " 'Start': 134513356,\n",
       " 'End': 134513364,\n",
       " 'Next': [134513376, 134513366],\n",
       " 'Ins': [(134513356, ['mov', 'ax, word ptr [ebp - 0x22]']),\n",
       "  (134513360, ['cmp', 'ax, 3']),\n",
       "  (134513364, ['je', '0x80482e0'])],\n",
       " 'Prev': [134513350],\n",
       " 'feat': [1.0, 0.0, 1.0, 0.0, 3.0, 1.0, 2.0, 0.2572375658618493]}"
      ]
     },
     "execution_count": 3,
     "metadata": {},
     "output_type": "execute_result"
    }
   ],
   "source": [
    "G.nodes[99]"
   ]
  },
  {
   "cell_type": "code",
   "execution_count": 4,
   "metadata": {},
   "outputs": [
    {
     "data": {
      "text/plain": [
       "OutMultiEdgeDataView([(98, 99), (98, 275)])"
      ]
     },
     "execution_count": 4,
     "metadata": {},
     "output_type": "execute_result"
    }
   ],
   "source": [
    "G.edges(98)"
   ]
  },
  {
   "cell_type": "code",
   "execution_count": 5,
   "metadata": {},
   "outputs": [],
   "source": [
    "weakly_connected_subgraphs = nx.weakly_connected_components(G)"
   ]
  },
  {
   "cell_type": "code",
   "execution_count": 6,
   "metadata": {},
   "outputs": [],
   "source": [
    "weakly_subgraphs = [subgraph for subgraph in weakly_connected_subgraphs if len(subgraph) > 2]"
   ]
  },
  {
   "cell_type": "code",
   "execution_count": 7,
   "metadata": {},
   "outputs": [
    {
     "data": {
      "text/plain": [
       "305"
      ]
     },
     "execution_count": 7,
     "metadata": {},
     "output_type": "execute_result"
    }
   ],
   "source": [
    "len(weakly_subgraphs[0])"
   ]
  },
  {
   "cell_type": "code",
   "execution_count": 8,
   "metadata": {},
   "outputs": [],
   "source": [
    "H = nx.read_gpickle('./interpretability_results/Malware/67bc86683b9b63d6c22f238c54c15e8e3cc4e80a14e0689363e7c5cb88941598./subgraph_10percent.gpickle')"
   ]
  },
  {
   "cell_type": "code",
   "execution_count": 9,
   "metadata": {},
   "outputs": [],
   "source": [
    "weakly_connected_subgraphs_H = nx.weakly_connected_components(H)"
   ]
  },
  {
   "cell_type": "code",
   "execution_count": 10,
   "metadata": {},
   "outputs": [],
   "source": [
    "weakly_subgraphs_H = [subgraph for subgraph in weakly_connected_subgraphs_H if len(subgraph) >= 2]"
   ]
  },
  {
   "cell_type": "code",
   "execution_count": 39,
   "metadata": {},
   "outputs": [
    {
     "data": {
      "text/plain": [
       "[{47, 49, 51, 54, 55, 57, 58, 60, 271, 272},\n",
       " {98, 99, 100, 101, 102, 103, 118},\n",
       " {144, 147, 148, 151, 152, 154, 279, 281},\n",
       " {162,\n",
       "  165,\n",
       "  166,\n",
       "  167,\n",
       "  168,\n",
       "  169,\n",
       "  170,\n",
       "  171,\n",
       "  172,\n",
       "  173,\n",
       "  174,\n",
       "  175,\n",
       "  176,\n",
       "  177,\n",
       "  178,\n",
       "  179,\n",
       "  184,\n",
       "  185,\n",
       "  186,\n",
       "  187,\n",
       "  196,\n",
       "  197,\n",
       "  200,\n",
       "  203,\n",
       "  210,\n",
       "  211,\n",
       "  212,\n",
       "  221,\n",
       "  223,\n",
       "  224,\n",
       "  285}]"
      ]
     },
     "execution_count": 39,
     "metadata": {},
     "output_type": "execute_result"
    }
   ],
   "source": [
    "weakly_subgraphs_H"
   ]
  },
  {
   "cell_type": "code",
   "execution_count": 103,
   "metadata": {},
   "outputs": [
    {
     "data": {
      "text/plain": [
       "NodeView((0, 1, 2, 3, 4, 5, 6, 7, 8, 9, 10, 11, 12, 13, 14, 15, 16, 17, 18, 19, 20, 21, 22, 23, 24, 25, 26, 27, 28, 29, 30, 31, 32, 33, 34, 35, 36, 37, 38, 39, 40, 41, 42, 43, 44, 45, 46, 47, 48, 49, 50, 51, 52, 53, 54, 55, 56, 57, 58, 59, 60, 61, 62, 63, 64, 65, 66, 67, 68, 69, 70, 71, 72, 73, 74, 75, 76, 77, 78, 79, 80, 81, 82, 83, 84, 85, 86, 87, 88, 89, 90, 91, 92, 93, 94, 95, 96, 97, 98, 99, 100, 101, 102, 103, 104, 105, 106, 107, 108, 109, 110, 111, 112, 113, 114, 115, 116, 117, 118, 119, 120, 121, 122, 123, 124, 125, 126, 127, 128, 129, 130, 131, 132, 133, 134, 135, 136, 137, 138, 139, 140, 141, 142, 143, 144, 145, 146, 147, 148, 149, 150, 151, 152, 153, 154, 155, 156, 157, 158, 159, 160, 161, 162, 163, 164, 165, 166, 167, 168, 169, 170, 171, 172, 173, 174, 175, 176, 177, 178, 179, 180, 181, 182, 183, 184, 185, 186, 187, 188, 189, 190, 191, 192, 193, 194, 195, 196, 197, 198, 199, 200, 201, 202, 203, 204, 205, 206, 207, 208, 209, 210, 211, 212, 213, 214, 215, 216, 217, 218, 219, 220, 221, 222, 223, 224, 225, 226, 227, 228, 229, 230, 231, 232, 233, 234, 235, 236, 237, 238, 239, 240, 241, 242, 243, 244, 245, 246, 247, 248, 249, 250, 251, 252, 253, 254, 255, 256, 257, 258, 259, 260, 261, 262, 263, 264, 265, 266, 267, 268, 269, 270, 271, 272, 273, 274, 275, 276, 277, 278, 279, 280, 281, 282, 283, 284, 285, 286, 287, 288, 289, 290, 291, 292, 293, 294, 295, 296, 297, 298, 299, 300, 301, 302, 303, 304))"
      ]
     },
     "execution_count": 103,
     "metadata": {},
     "output_type": "execute_result"
    }
   ],
   "source": [
    "G.nodes()"
   ]
  },
  {
   "cell_type": "code",
   "execution_count": 321,
   "metadata": {},
   "outputs": [],
   "source": [
    "summary_dir = '/mnt/bigDisk/leon/rtools/CFGs/x86/'\n",
    "filename = '67bc86683b9b63d6c22f238c54c15e8e3cc4e80a14e0689363e7c5cb88941598'\n",
    "ACFG = nx.read_gpickle(summary_dir + filename + '.pickle')\n",
    "ACFG = nx.MultiDiGraph(ACFG)"
   ]
  },
  {
   "attachments": {},
   "cell_type": "markdown",
   "metadata": {},
   "source": [
    "## Parting Testing samples"
   ]
  },
  {
   "cell_type": "code",
   "execution_count": 1,
   "metadata": {},
   "outputs": [],
   "source": [
    "def read_pickle(path):\n",
    "    with open(path, 'rb') as file:\n",
    "        data = pickle.load(file)\n",
    "    file.close()\n",
    "    return data"
   ]
  },
  {
   "cell_type": "code",
   "execution_count": 2,
   "metadata": {},
   "outputs": [],
   "source": [
    "def Caculate_CFG_boundary(CFG): \n",
    "    CFG_Start = int(CFG.nodes[0]['x'][0][0].split('[')[0], 16)\n",
    "    CFG_End = int(CFG.nodes[0]['x'][-1][0].split('[')[0], 16)\n",
    "    for node, data in CFG.nodes(data=True):\n",
    "        if \"temp\" in str(node):\n",
    "            continue\n",
    "        Start = int(data['x'][0][0].split('[')[0], 16)\n",
    "        End = int(data['x'][-1][0].split('[')[0], 16)\n",
    "        if Start < CFG_Start:\n",
    "            CFG_Start = Start\n",
    "        if CFG_End < End:\n",
    "            CFG_End = End\n",
    "    while CFG_End % 4:\n",
    "        CFG_End += 1\n",
    "    return CFG_Start, CFG_End + 4 "
   ]
  },
  {
   "cell_type": "code",
   "execution_count": 3,
   "metadata": {},
   "outputs": [],
   "source": [
    "def Partition(G, node, address):\n",
    "    \n",
    "    # if len(G.nodes[node]['x']) < 2:\n",
    "    #     return G, address\n",
    "    part_ins = G.nodes[node]['x'][:-1]\n",
    "    G.nodes[node]['x'] = [[G.nodes[node]['x'][0][0]] + G.nodes[node]['x'][-1][1:]]\n",
    "    G.nodes[node]['NodeName'] = 'Partition_Node_' + str(node) + '_' + str(len(part_ins))\n",
    "    in_nodes = [edge[0] for edge in G.in_edges(node)]\n",
    "\n",
    "    edges_to_remove = list(G.in_edges(node))\n",
    "    G.remove_edges_from(edges_to_remove)\n",
    "    FirstNode = True\n",
    "    for i, ins in enumerate(part_ins):\n",
    "        part_cnt = len(G.nodes)\n",
    "        NName = 'Partition_Node_' + str(node) + '-' + str(i)\n",
    "        newnode = part_cnt\n",
    "        ins[0] = str(hex(address))\n",
    "        address += 4\n",
    "        newins = [ins, [str(hex(address)), 'jmp ' + str(hex(address + 4))]]\n",
    "        address += 4\n",
    "        G.add_node(newnode, x = newins, NodeName = NName)\n",
    "        for in_node in in_nodes:\n",
    "            G.add_edge(in_node, newnode)\n",
    "            if FirstNode: \n",
    "                if G.nodes[in_node]['x'][-1][1].split()[-1] == G.nodes[node]['x'][0][0]:\n",
    "                    G.nodes[in_node]['x'][-1][1].split()[-1] = G.nodes[newnode]['x'][0][0]\n",
    "                else:\n",
    "                    G.nodes[in_node]['x'] += [[str(hex(int(G.nodes[in_node]['x'][-1][0].split('[')[0], 16) + 4 )), 'jmp ' + G.nodes[newnode]['x'][0][0]]]\n",
    "        in_nodes = [newnode]\n",
    "        FirstNode = False\n",
    "    G.nodes[newnode]['x'][-1][1] = 'jmp ' + str(G.nodes[node]['x'][0][0])\n",
    "\n",
    "    G.add_edge(in_nodes[0], node)    \n",
    "    return G, address"
   ]
  },
  {
   "cell_type": "code",
   "execution_count": 53,
   "metadata": {},
   "outputs": [
    {
     "name": "stderr",
     "output_type": "stream",
     "text": [
      "100%|██████████| 500/500 [00:31<00:00, 16.00it/s]"
     ]
    },
    {
     "name": "stdout",
     "output_type": "stream",
     "text": [
      "Not Full Partition samples : 335\n"
     ]
    },
    {
     "name": "stderr",
     "output_type": "stream",
     "text": [
      "\n"
     ]
    },
    {
     "ename": "",
     "evalue": "",
     "output_type": "error",
     "traceback": [
      "\u001b[1;31m在目前儲存格或上一個儲存格中執行程式碼時，Kernel 已損毀。請檢閱儲存格中的程式碼，找出失敗的可能原因。如需詳細資訊，請按一下<a href='https://aka.ms/vscodeJupyterKernelCrash'>這裡</a>。檢視 Jupyter <a href='command:jupyter.viewOutput'>記錄</a>，以取得進一步的詳細資料。"
     ]
    }
   ],
   "source": [
    "from tqdm import tqdm\n",
    "import networkx as nx\n",
    "import os\n",
    "import pickle\n",
    "from Generate_poison_data import Generate_ACFG_Node_Attributes, Append_temp_nodes\n",
    "\n",
    "target_path = '/home/ycchiu/git-rep/CFGE2BA/CFGExplainer/data_testing/padded_test/Malware'\n",
    "important_path = '/home/ycchiu/git-rep/CFGE2BA/CFGExplainer/poison_interpretability_results/Malware'\n",
    "summary_dir = '/mnt/bigDisk/leon/rtools/CFGs/x86'\n",
    "Malware_files = []\n",
    "num_not_complete = 0\n",
    "# times = 1\n",
    "\n",
    "with open(target_path + \"/0_list.txt\", \"r\") as f:\n",
    "    for line in f.readlines():\n",
    "        Malware_files.append(line.strip()[:-8])\n",
    "f.close()\n",
    "orignal_num_nodes = 0\n",
    "num_of_node = {}\n",
    "for filename in tqdm(Malware_files):\n",
    "    \n",
    "    ## read importance_score and top_blocks\n",
    "    score_path = os.path.join(important_path, filename, 'importance_score.pickle')\n",
    "    importance_score = read_pickle(score_path)\n",
    "    top_path = os.path.join(important_path, filename, 'top_blocks.pickle')\n",
    "    top_blocks = read_pickle(top_path)\n",
    "\n",
    "    file_path = os.path.join(summary_dir, filename)\n",
    "    G = nx.read_gpickle(file_path + '.pickle')\n",
    "    _, address = Caculate_CFG_boundary(G)\n",
    "    orignal_num_nodes = G.number_of_nodes()\n",
    "\n",
    "    if orignal_num_nodes not in num_of_node:\n",
    "        num_of_node[orignal_num_nodes] = 1\n",
    "    else:\n",
    "        num_of_node[orignal_num_nodes] += 1\n",
    "\n",
    "    block_cnt = 15\n",
    "    for block in top_blocks:\n",
    "        ## if top block not in G then continue \n",
    "        if block >= orignal_num_nodes:\n",
    "            continue\n",
    "        num_part_node = len(G.nodes[block]['x'])\n",
    "\n",
    "        ## make sure the block which will be parting have more than 2 lines\n",
    "        if num_part_node < 2:\n",
    "            continue\n",
    "        \n",
    "        ## if size of G not enough to partition, the importance_score in block is 0 or block_cnt is 0 then break  \n",
    "        if G.number_of_nodes() + num_part_node > 512 or importance_score[block].numpy()[0] == 0.0 or block_cnt <= 0:      \n",
    "            break\n",
    "        G, address = Partition(G, block, address)\n",
    "        block_cnt -= 1\n",
    "    \n",
    "    if block_cnt != 0:\n",
    "        num_not_complete += 1\n",
    "\n",
    "    ACFG = Generate_ACFG_Node_Attributes(G)    \n",
    "    if ACFG.number_of_nodes() < 512:\n",
    "        ACFG = Append_temp_nodes(ACFG)\n",
    "    # nx.write_gpickle(ACFG, '/home/ycchiu/git-rep/CFGE2BA/CFGExplainer/Partition_samples/padded_test/Malware/' + filename + \".gpickle\")\n",
    "print('Not Full Partition samples :', 500 - num_not_complete)"
   ]
  },
  {
   "attachments": {},
   "cell_type": "markdown",
   "metadata": {},
   "source": [
    "## Add Trigger and Parting Testing samples"
   ]
  },
  {
   "cell_type": "code",
   "execution_count": 4,
   "metadata": {},
   "outputs": [
    {
     "name": "stderr",
     "output_type": "stream",
     "text": [
      "100%|██████████| 500/500 [07:46<00:00,  1.07it/s]"
     ]
    },
    {
     "name": "stdout",
     "output_type": "stream",
     "text": [
      "Not Full Partition samples : 289\n"
     ]
    },
    {
     "name": "stderr",
     "output_type": "stream",
     "text": [
      "\n"
     ]
    }
   ],
   "source": [
    "from tqdm import tqdm\n",
    "import networkx as nx\n",
    "import os\n",
    "import pickle\n",
    "from Generate_poison_data import Generate_ACFG_Node_Attributes, Append_temp_nodes, Add_Trigger_to_ACFG\n",
    "\n",
    "target_path = '/home/ycchiu/git-rep/CFGE2BA/CFGExplainer/data_testing/padded_test/Malware'\n",
    "important_path = '/home/ycchiu/git-rep/CFGE2BA/CFGExplainer/poison_interpretability_results/Malware'\n",
    "summary_dir = '/mnt/bigDisk/leon/rtools/CFGs/x86'\n",
    "trigger_path = './trigger/trigger.gpickle'\n",
    "Malware_files = []\n",
    "num_not_complete = 0\n",
    "# times = 1\n",
    "trigger_times = 13\n",
    "\n",
    "with open(target_path + \"/0_list.txt\", \"r\") as f:\n",
    "    for line in f.readlines():\n",
    "        Malware_files.append(line.strip()[:-8])\n",
    "f.close()\n",
    "orignal_num_nodes = 0\n",
    "num_of_node = {}\n",
    "for filename in tqdm(Malware_files):\n",
    "    \n",
    "    ## read importance_score and top_blocks\n",
    "    score_path = os.path.join(important_path, filename, 'importance_score.pickle')\n",
    "    importance_score = read_pickle(score_path)\n",
    "    top_path = os.path.join(important_path, filename, 'top_blocks.pickle')\n",
    "    top_blocks = read_pickle(top_path)\n",
    "\n",
    "    file_path = os.path.join(summary_dir, filename)\n",
    "    G = nx.read_gpickle(file_path + '.pickle')\n",
    "    _, address = Caculate_CFG_boundary(G)\n",
    "    orignal_num_nodes = G.number_of_nodes()\n",
    "\n",
    "    if orignal_num_nodes not in num_of_node:\n",
    "        num_of_node[orignal_num_nodes] = 1\n",
    "    else:\n",
    "        num_of_node[orignal_num_nodes] += 1\n",
    "\n",
    "    block_cnt = 15\n",
    "    for block in top_blocks:\n",
    "        ## if top block not in G then continue \n",
    "        if block >= orignal_num_nodes:\n",
    "            continue\n",
    "        num_part_node = len(G.nodes[block]['x'])\n",
    "\n",
    "        ## make sure the block which will be parting have more than 2 lines\n",
    "        if num_part_node < 2:\n",
    "            continue\n",
    "        \n",
    "        ## if size of G not enough to partition, the importance_score in block is 0 or block_cnt is 0 then break  \n",
    "        if G.number_of_nodes() + num_part_node + (11 * trigger_times) > 512 or importance_score[block].numpy()[0] == 0.0 or block_cnt <= 0:      \n",
    "            break\n",
    "        G, address = Partition(G, block, address)\n",
    "        block_cnt -= 1\n",
    "    \n",
    "    if block_cnt != 0:\n",
    "        num_not_complete += 1\n",
    "\n",
    "    ACFG = Generate_ACFG_Node_Attributes(G)\n",
    "\n",
    "    starting_point = 0\n",
    "    for _ in range(trigger_times):\n",
    "        if ACFG.number_of_nodes() + 11 > 512:    ## trigger size = 11 edges = 17\n",
    "            # mal_node_cnt += 1\n",
    "            print('Not enough!')\n",
    "            break\n",
    "        ACFG, starting_point = Add_Trigger_to_ACFG(ACFG, trigger_path, starting_point)\n",
    "    \n",
    "    if ACFG.number_of_nodes() < 512:\n",
    "        ACFG = Append_temp_nodes(ACFG)\n",
    "    # continue\n",
    "    nx.write_gpickle(ACFG, '/home/ycchiu/git-rep/CFGE2BA/CFGExplainer/Add_trigger_partition_samples/padded_test/Malware/' + filename + \".gpickle\")\n",
    "print('Not Full Partition samples :', 500 - num_not_complete)"
   ]
  },
  {
   "cell_type": "code",
   "execution_count": 5,
   "metadata": {},
   "outputs": [
    {
     "name": "stdout",
     "output_type": "stream",
     "text": [
      "Not Full Partition samples : 289\n"
     ]
    },
    {
     "ename": "",
     "evalue": "",
     "output_type": "error",
     "traceback": [
      "\u001b[1;31m在目前儲存格或上一個儲存格中執行程式碼時，Kernel 已損毀。請檢閱儲存格中的程式碼，找出失敗的可能原因。如需詳細資訊，請按一下<a href='https://aka.ms/vscodeJupyterKernelCrash'>這裡</a>。檢視 Jupyter <a href='command:jupyter.viewOutput'>記錄</a>，以取得進一步的詳細資料。"
     ]
    }
   ],
   "source": [
    "print('Not Full Partition samples :', 500 - num_not_complete)"
   ]
  },
  {
   "attachments": {},
   "cell_type": "markdown",
   "metadata": {},
   "source": [
    "1 : 335\n",
    "2 : 335\n",
    "3 : 332\n",
    "4 : 332\n",
    "5 : 332\n",
    "6 : 322\n",
    "7 : 322\n",
    "8 : 322\n",
    "9 : 322\n",
    "10: 322\n",
    "11: 322\n",
    "12: 302\n",
    "13: 289"
   ]
  },
  {
   "cell_type": "code",
   "execution_count": null,
   "metadata": {},
   "outputs": [],
   "source": []
  },
  {
   "attachments": {},
   "cell_type": "markdown",
   "metadata": {},
   "source": [
    "## Parting Trigger"
   ]
  },
  {
   "cell_type": "code",
   "execution_count": 315,
   "metadata": {},
   "outputs": [
    {
     "name": "stdout",
     "output_type": "stream",
     "text": [
      "[99, 306, 100, 148, 57, 211, 102, 185, 218, 174, 55, 60, 210, 151, 279, 272, 320, 197, 224, 221, 171, 177, 118, 179, 203, 154, 144, 147, 281, 103, 101, 196, 223, 285, 220, 187, 176, 212, 178, 202, 283, 325, 134, 277, 175, 186, 152, 130, 219, 200, 184, 136, 115, 232, 117, 121, 140, 155, 192, 209, 216, 229, 255, 258, 287, 228, 116, 127, 131, 133, 278, 143, 260, 225, 205, 259, 324, 124, 126, 122, 180, 198, 230, 233, 195, 207, 217, 227, 238, 262, 280, 145, 206, 226, 234, 237, 261, 282, 284, 286, 254, 215, 191, 172, 183, 123, 235, 239, 128, 138, 146, 129, 181, 199, 231, 240, 135, 142, 159, 160, 189, 194, 204, 214, 242, 244, 247, 253, 132, 149, 150, 182, 241, 208, 236, 28, 52, 252, 213, 257, 188, 222, 201, 137, 95, 157, 164, 139, 243, 156, 248, 32, 96, 98, 161, 165, 170, 37, 49, 63, 67, 71, 250, 34, 249, 275, 74, 104, 61, 270, 319, 158, 54, 162, 166, 169, 47, 73, 58, 329, 72, 44, 330, 39, 56, 97, 251, 3, 7, 76, 106, 110, 269, 0, 11, 40, 59, 114, 256, 173, 310, 51, 75, 141, 48, 64, 193, 26, 5, 190, 27, 65, 84, 297, 296, 108, 167, 21, 85, 120, 298, 14, 42, 81, 87, 107, 12, 41, 50, 86, 276, 299, 43, 62, 305, 292, 291, 293, 294, 82, 304, 1, 309, 112, 16, 25, 245, 109, 29, 69, 22, 23, 88, 300, 168, 113, 290, 78, 89, 119, 268, 273, 45, 301, 77, 125, 53, 246, 307, 163, 111, 46, 70, 308, 24, 30, 295, 302, 289, 66, 13, 33, 91, 17, 80, 105, 303, 315, 322, 327, 15, 36, 68, 79, 288, 314, 321, 326, 328, 318, 323, 312, 313, 316, 317, 19, 93, 311, 271, 20, 83, 4, 35, 274, 6, 38, 92, 10, 31, 263, 264, 265, 266, 267, 2, 8, 9, 18, 90, 94, 153]\n"
     ]
    }
   ],
   "source": [
    "import pickle\n",
    "\n",
    "with open(\"/home/ycchiu/git-rep/CFGE2BA/CFGExplainer/interpretability_results/Malware/67bc86683b9b63d6c22f238c54c15e8e3cc4e80a14e0689363e7c5cb88941598/top_blocks.pickle\", \"rb\") as f:\n",
    "    data = pickle.load(f)\n",
    "\n",
    "print(data)\n"
   ]
  },
  {
   "cell_type": "code",
   "execution_count": 2,
   "metadata": {},
   "outputs": [
    {
     "data": {
      "text/plain": [
       "<networkx.classes.multidigraph.MultiDiGraph at 0x7fbb3c2567f0>"
      ]
     },
     "execution_count": 2,
     "metadata": {},
     "output_type": "execute_result"
    }
   ],
   "source": [
    "import networkx as nx\n",
    "\n",
    "trigger = nx.read_gpickle('./trigger/trigger.gpickle')\n",
    "trigger"
   ]
  },
  {
   "cell_type": "code",
   "execution_count": 3,
   "metadata": {},
   "outputs": [
    {
     "data": {
      "text/plain": [
       "NodeView(('Trigger_Node_0', 'Trigger_Node_1', 'Trigger_Node_2', 'Trigger_Node_3', 'Trigger_Node_4', 'Trigger_Node_5', 'Trigger_Node_6', 'Trigger_Node_7', 'Trigger_Node_8', 'Trigger_Node_9', 'Trigger_Node_10'))"
      ]
     },
     "execution_count": 3,
     "metadata": {},
     "output_type": "execute_result"
    }
   ],
   "source": [
    "trigger.nodes()"
   ]
  },
  {
   "cell_type": "code",
   "execution_count": 389,
   "metadata": {},
   "outputs": [
    {
     "data": {
      "text/plain": [
       "{'bName': '0x40b8d7[3]',\n",
       " 'Start': 4241623,\n",
       " 'End': 4241624,\n",
       " 'Next': [],\n",
       " 'Ins': [(4241623, ['pop', 'rbp']), (4241624, ['jmp', 'rax'])],\n",
       " 'Prev': [4241621],\n",
       " 'feat': [0.0, 0.0, 1.0, 0.0, 2.0, 0.0, 0.0, 0.0],\n",
       " 'NodeName': 'Trigger_Node_3'}"
      ]
     },
     "execution_count": 389,
     "metadata": {},
     "output_type": "execute_result"
    }
   ],
   "source": [
    "trigger.nodes['Trigger_Node_3']"
   ]
  },
  {
   "cell_type": "code",
   "execution_count": 356,
   "metadata": {},
   "outputs": [
    {
     "data": {
      "text/plain": [
       "4096"
      ]
     },
     "execution_count": 356,
     "metadata": {},
     "output_type": "execute_result"
    }
   ],
   "source": [
    "len(G.nodes)"
   ]
  },
  {
   "cell_type": "code",
   "execution_count": 3,
   "metadata": {},
   "outputs": [],
   "source": [
    "import networkx as nx\n",
    "T = nx.read_gpickle('./trigger/trigger.gpickle')"
   ]
  },
  {
   "cell_type": "code",
   "execution_count": 5,
   "metadata": {},
   "outputs": [
    {
     "data": {
      "text/plain": [
       "NodeView(('Trigger_Node_0', 'Trigger_Node_1', 'Trigger_Node_2', 'Trigger_Node_3', 'Trigger_Node_4', 'Trigger_Node_5', 'Trigger_Node_6', 'Trigger_Node_7', 'Trigger_Node_8', 'Trigger_Node_9', 'Trigger_Node_10'))"
      ]
     },
     "execution_count": 5,
     "metadata": {},
     "output_type": "execute_result"
    }
   ],
   "source": [
    "T.nodes()"
   ]
  },
  {
   "cell_type": "code",
   "execution_count": 50,
   "metadata": {},
   "outputs": [
    {
     "data": {
      "image/png": "[encoded data removed]",
      "text/plain": [
       "<Figure size 432x288 with 1 Axes>"
      ]
     },
     "metadata": {},
     "output_type": "display_data"
    }
   ],
   "source": [
    "nx.draw(T)"
   ]
  },
  {
   "cell_type": "code",
   "execution_count": 44,
   "metadata": {},
   "outputs": [
    {
     "name": "stdout",
     "output_type": "stream",
     "text": [
      "Trigger_Node_0 {'Start': 4270670, 'End': 4270673, 'Next': [4270678, 4270675], 'Ins': [(4270670, ['and', 'edx, 1']), (4270673, ['je', '0x412a56'])], 'Prev': [4270659, 4270666], 'feat': [1.0, 0.0, 0.0, 0.0, 2.0, 1.0, 2.0, 0.18841011929247223], 'NodeName': 'Trigger_Node_0'}\n",
      "Trigger_Node_1 {'Start': 4270678, 'End': 4270690, 'Next': [4270696, 4271025], 'Ins': [(4270678, ['test', 'r13b, 1']), (4270682, ['mov', 'rdi, r13']), (4270685, ['mov', 'edx, 0x400']), (4270690, ['jne', '0x412bb1'])], 'Prev': [4270673, 4270675], 'feat': [2.0, 0.0, 2.0, 0.0, 4.0, 1.0, 2.0, 0.1891505553270259], 'NodeName': 'Trigger_Node_1'}\n",
      "Trigger_Node_2 {'Start': 4270696, 'End': 4270700, 'Next': [4270706, 4271048], 'Ins': [(4270696, ['test', 'dil, 2']), (4270700, ['jne', '0x412bc8'])], 'Prev': [4270690], 'feat': [1.0, 0.0, 0.0, 0.0, 2.0, 1.0, 2.0, 0.09268305224187576], 'NodeName': 'Trigger_Node_2'}\n",
      "Trigger_Node_3 {'Start': 4271025, 'End': 4271042, 'Next': [4270706, 4271048], 'Ins': [(4271025, ['lea', 'rdi, [r13 + 1]']), (4271029, ['mov', 'byte ptr [r13], 0']), (4271034, ['mov', 'dx, 0x3ff']), (4271038, ['test', 'dil, 2']), (4271042, ['je', '0x412a72'])], 'Prev': [4270690], 'feat': [2.0, 0.0, 3.0, 0.0, 5.0, 1.0, 2.0, 0.09268305224187576], 'NodeName': 'Trigger_Node_3'}\n",
      "Trigger_Node_4 {'Start': 4270706, 'End': 4270710, 'Next': [4271070, 4270716], 'Ins': [(4270706, ['test', 'dil, 4']), (4270710, ['jne', '0x412bde'])], 'Prev': [4270700, 4271042], 'feat': [1.0, 0.0, 0.0, 0.0, 2.0, 1.0, 2.0, 0.09305327025915261], 'NodeName': 'Trigger_Node_4'}\n",
      "Trigger_Node_5 {'Start': 4271048, 'End': 4271064, 'Next': [4271070, 4270716], 'Ins': [(4271048, ['mov', 'word ptr [rdi], 0']), (4271053, ['add', 'rdi, 2']), (4271057, ['sub', 'edx, 2']), (4271060, ['test', 'dil, 4']), (4271064, ['je', '0x412a7c'])], 'Prev': [4270700, 4271042], 'feat': [3.0, 0.0, 1.0, 0.0, 5.0, 3.0, 2.0, 0.09305327025915261], 'NodeName': 'Trigger_Node_5'}\n",
      "Trigger_Node_6 {'Start': 4270661, 'End': 4270666, 'Next': [4270670], 'Ins': [(4270661, ['mov', 'word ptr [rdi], 0']), (4270666, ['add', 'rdi, 2'])], 'Prev': [4270659], 'feat': [1.0, 0.0, 1.0, 0.0, 2.0, 1.0, 1.0, 0.0], 'NodeName': 'Trigger_Node_6'}\n",
      "Trigger_Node_7 {'Start': 4270675, 'End': 4270675, 'Next': [4270678], 'Ins': [(4270675, ['mov', 'byte ptr [rdi], 0'])], 'Prev': [4270673], 'feat': [0.0, 0.0, 1.0, 0.0, 1.0, 0.0, 1.0, 0.0], 'NodeName': 'Trigger_Node_7'}\n",
      "Trigger_Node_8 {'Start': 4271070, 'End': 4271083, 'Next': [4270716], 'Ins': [(4271070, ['mov', 'dword ptr [rdi], 0']), (4271076, ['sub', 'edx, 4']), (4271079, ['add', 'rdi, 4']), (4271083, ['jmp', '0x412a7c'])], 'Prev': [4270710, 4271064], 'feat': [2.0, 0.0, 1.0, 0.0, 4.0, 2.0, 1.0, 0.0], 'NodeName': 'Trigger_Node_8'}\n",
      "Trigger_Node_9 {'Start': 4270716, 'End': 4270723, 'Next': [4270726], 'Ins': [(4270716, ['mov', 'ecx, edx']), (4270718, ['xor', 'eax, eax']), (4270720, ['shr', 'ecx, 3']), (4270723, ['test', 'dl, 4'])], 'Prev': [4270710, 4271064, 4271083], 'feat': [2.0, 0.0, 1.0, 0.0, 4.0, 2.0, 1.0, 0.19137186343068693], 'NodeName': 'Trigger_Node_9'}\n",
      "Trigger_Node_10 {'Start': 4270726, 'End': 4270726, 'Next': [4270726], 'Ins': [(4270726, ['rep', 'stosq qword ptr [rdi], rax'])], 'Prev': [4270726, 4270723], 'feat': [0.0, 0.0, 0.0, 0.0, 1.0, 0.0, 2.0, 0.19174208144796379], 'NodeName': 'Trigger_Node_10'}\n"
     ]
    }
   ],
   "source": [
    "for node, data in T.nodes(data=True):\n",
    "    print(node, data)"
   ]
  },
  {
   "cell_type": "code",
   "execution_count": 35,
   "metadata": {},
   "outputs": [],
   "source": [
    "summary_dir = '/mnt/bigDisk/leon/rtools/CFGs/x86/0a2a46d5f4db9d49feb49e8c235aea615c55d38823354570358bfce435cfa9ea.pickle'\n",
    "G = nx.read_gpickle(summary_dir)\n",
    "A = list(G.in_edges(1))"
   ]
  },
  {
   "cell_type": "code",
   "execution_count": 3,
   "metadata": {},
   "outputs": [],
   "source": [
    "# ## Generate partition node\n",
    "# ## partition start : Partition_Node_0 \n",
    "# ## partition End : Partition_Node_8\n",
    "\n",
    "# import networkx as nx\n",
    "\n",
    "# def Generate_Partition_Graph(node, partition_address, part_ins):\n",
    "#     \"\"\"\n",
    "#     Generate Partition Graph:\n",
    "#     Start point : Partition_Node_0,  replace Partition_Node_0 with node\n",
    "#     End point : Partition_Node_8\n",
    "#     \"\"\"\n",
    "#     # 建立一個空的多重有向圖\n",
    "#     PGraph = nx.MultiDiGraph()\n",
    "\n",
    "#     mapping = {}\n",
    "#     # 插入節點並設置屬性\n",
    "#     for i in range(11):\n",
    "#         PGraph.add_node(i, NodeName='Partition_Node_'+ str(i))\n",
    "#         mapping[i] = 'Partition_Node_'+ str(i)\n",
    "\n",
    "#     # 插入17條邊\n",
    "#     edges = [(0, 1), (1, 2), (1, 3), (2, 3), (3, 4), (3, 9), (4, 5), (4, 10), (5, 6), (5, 7), (6, 7), (7, 8), (8, 8), (9, 5), (9, 10), (10, 6), (10, 7)]\n",
    "#     PGraph.add_edges_from(edges)\n",
    "    \n",
    "#     ## nodes: 0\n",
    "#     PGraph.nodes[0]['x'] = [[hex(partition_address), 'jmp '+ hex(partition_address + 4)]]\n",
    "#     ## nodes: 1\n",
    "#     PGraph.nodes[1]['x'] = [[hex(partition_address + 4), 'cmp rax rax'], \n",
    "#                             [hex(partition_address + 8), 'jne '+ hex(partition_address + 16)]]\n",
    "#     ## node: 2\n",
    "#     PGraph.nodes[2]['x'] = [[hex(partition_address + 12), 'jmp '+ hex(partition_address + 16)]]\n",
    "#     ## node: 3\n",
    "#     PGraph.nodes[3]['x'] = [[hex(partition_address + 16), 'cmp rax rax'], \n",
    "#                             [hex(partition_address + 20), 'jne '+ hex(partition_address + 44)]]\n",
    "#     ## node: 4\n",
    "#     PGraph.nodes[4]['x'] = [[hex(partition_address + 24), 'cmp rax rax'], \n",
    "#                             [hex(partition_address + 28), 'jne '+ hex(partition_address + 52)]]\n",
    "#     ## node: 5\n",
    "#     PGraph.nodes[5]['x'] = [[hex(partition_address + 32), 'cmp rax rax'], \n",
    "#                             [hex(partition_address + 36), 'jne '+ hex(partition_address + 60)]]\n",
    "#     ## node: 6\n",
    "#     PGraph.nodes[6]['x'] = [[hex(partition_address + 40), 'jmp '+ hex(partition_address + 60)]]\n",
    "#     ## node: 9\n",
    "#     PGraph.nodes[9]['x'] = [[hex(partition_address + 44), 'cmp rax rax'], \n",
    "#                             [hex(partition_address + 48), 'jne '+ hex(partition_address + 32)]]\n",
    "#     ## node: 10\n",
    "#     PGraph.nodes[10]['x'] = [[hex(partition_address + 52), 'cmp rax rax'], \n",
    "#                              [hex(partition_address + 56), 'jne '+ hex(partition_address + 40)]]\n",
    "#     ## node: 7\n",
    "#     PGraph.nodes[7]['x'] = [[hex(partition_address + 60), 'jmp '+ hex(partition_address + 64)]]\n",
    "#     ## node: 8 \n",
    "#     PGraph.nodes[8]['x'] = [[hex(partition_address + 64), 'cmp rax rax'], \n",
    "#                             [hex(partition_address + 68), 'jne '+ hex(partition_address + 64)]]\n",
    "\n",
    "\n",
    "#     PGraph = nx.relabel.relabel_nodes(PGraph, mapping)\n",
    "#     # nx.write_gpickle(PGraph, './trigger/partition.gpickle')\n",
    "#     return PGraph\n"
   ]
  },
  {
   "cell_type": "code",
   "execution_count": 26,
   "metadata": {},
   "outputs": [],
   "source": [
    "def Generate_Partition_Graph(partition_address, part_ins):\n",
    "    \"\"\"\n",
    "    Generate Partition Graph:\n",
    "    Start point : Partition_Node_0,  replace Partition_Node_0 with node\n",
    "    End point : Partition_Node_8\n",
    "    \"\"\"\n",
    "    # 建立一個空的多重有向圖\n",
    "    PGraph = nx.DiGraph()\n",
    "\n",
    "    mapping = {}\n",
    "    # 插入節點並設置屬性\n",
    "    for i in range(11):\n",
    "        PGraph.add_node(i, NodeName='Partition_Node_'+ str(i))\n",
    "        mapping[i] = 'Partition_Node_'+ str(i)\n",
    "\n",
    "    # 插入17條邊\n",
    "    edges = [(0, 1), (1, 2), (1, 3), (2, 3), (3, 4), (3, 9), (4, 5), (4, 10), (5, 6), (5, 7), (6, 7), (7, 8), (8, 8), (9, 5), (9, 10), (10, 6), (10, 7)]\n",
    "    PGraph.add_edges_from(edges)\n",
    "\n",
    "\n",
    "    Node_Ins = {\n",
    "        0: [['jmp ']],\n",
    "        1: [['cmp rax rax'],\n",
    "            ['jne ']],\n",
    "        2: [['jmp ']],\n",
    "        3: [['cmp rax rax'], \n",
    "            ['jne ']],\n",
    "        4: [['cmp rax rax'], \n",
    "            ['jne ']],\n",
    "        5: [['cmp rax rax'], \n",
    "            ['jne ']],\n",
    "        6: [['jmp ']],\n",
    "        9: [['cmp rax rax'], \n",
    "            ['jne ']],\n",
    "        10:[['cmp rax rax'], \n",
    "            ['jne ']],\n",
    "        7: [['jmp ']],\n",
    "        8: [['cmp rax rax'], \n",
    "            ['jne ']]\n",
    "    }\n",
    "\n",
    "    # 计算每个节点的指令插入数量\n",
    "    avg_insert_count = len(part_ins) // 9\n",
    "    ins_cnt = 0\n",
    "    # 遍历节点并插入指令\n",
    "    for i in range(11):\n",
    "        new_instructions = []\n",
    "        num_ins = 0\n",
    "\n",
    "        if i == 7 or i == 8:\n",
    "            continue\n",
    "\n",
    "        ## 插入指令\n",
    "        num_ins = avg_insert_count\n",
    "        if i < len(part_ins) % 9:\n",
    "            num_ins = avg_insert_count + 1\n",
    "\n",
    "        for _ in range(num_ins):\n",
    "            new_instruction = [hex(partition_address), part_ins[ins_cnt][1]]\n",
    "            new_instructions.append(new_instruction)\n",
    "            partition_address += 4\n",
    "            ins_cnt += 1\n",
    "\n",
    "        for ins in Node_Ins[i]:\n",
    "            new_instruction = [hex(partition_address), ins[0]]\n",
    "            new_instructions.append(new_instruction)\n",
    "            partition_address += 4\n",
    "\n",
    "        # 更新节点的指令列表\n",
    "        PGraph.nodes[i]['x'] = new_instructions\n",
    "\n",
    "    ## 不用inject ins 的 node\n",
    "    for i in range(7, 9):\n",
    "        new_instructions = []\n",
    "        for ins in Node_Ins[i]:\n",
    "            new_instruction = [hex(partition_address), ins[0]]\n",
    "            new_instructions.append(new_instruction)\n",
    "            partition_address += 4\n",
    "        PGraph.nodes[i]['x'] = new_instructions   \n",
    "\n",
    "    ## 最後再調整\n",
    "    PGraph = nx.relabel_nodes(PGraph, mapping)\n",
    "    return PGraph\n"
   ]
  },
  {
   "cell_type": "code",
   "execution_count": 110,
   "metadata": {},
   "outputs": [],
   "source": [
    "def Caculate_CFG_boundary(CFG): \n",
    "    CFG_Start = int(CFG.nodes[0]['x'][0][0].split('[')[0], 16)\n",
    "    CFG_End = int(CFG.nodes[0]['x'][-1][0].split('[')[0], 16)\n",
    "    for node, data in CFG.nodes(data=True):\n",
    "        if \"temp\" in str(node):\n",
    "            continue\n",
    "        Start = int(data['x'][0][0].split('[')[0], 16)\n",
    "        End = int(data['x'][-1][0].split('[')[0], 16)\n",
    "        if Start < CFG_Start:\n",
    "            CFG_Start = Start\n",
    "        if CFG_End < End:\n",
    "            CFG_End = End\n",
    "    while CFG_End % 4 != 0:\n",
    "        CFG_End += 1\n",
    "    return CFG_Start, CFG_End + 4"
   ]
  },
  {
   "cell_type": "code",
   "execution_count": 111,
   "metadata": {},
   "outputs": [],
   "source": [
    "# def Partition_Node(G, node):\n",
    "#     part_ins = G.nodes[node]['x']\n",
    "#     part_edges = [i[1] for i in list(G.edges(node))]\n",
    "#     part_inedges = [i[0] for i in list(G.in_edges(node))]\n",
    "#     _, G_End = Caculate_CFG_boundary(G)\n",
    "    \n",
    "#     PGraph = Generate_Partition_Graph(G_End, part_ins)\n",
    "    \n",
    "#     mapping = {}\n",
    "#     newnode = G.number_of_nodes()\n",
    "#     for P_node in PGraph.nodes(data=False):\n",
    "#         if str(P_node) == 'Partition_Node_0':\n",
    "#             mapping[P_node] = node\n",
    "#         else:\n",
    "#             mapping[P_node] = newnode\n",
    "#             newnode += 1\n",
    "#     CFG =  nx.union(G, PGraph)\n",
    "    \n",
    "#     ## add edge to PGraph\n",
    "#     for part_edge in part_edges:\n",
    "#         CFG.add_edge('Partition_Node_8', part_edge)\n",
    "#     for part_inedge in part_inedges:\n",
    "#         CFG.add_edge(part_inedge, 'Partition_Node_0')\n",
    "\n",
    "#     ## remove node\n",
    "#     CFG.remove_node(node)\n",
    "#     CFG = nx.relabel_nodes(CFG, mapping) \n",
    "#     return CFG"
   ]
  },
  {
   "cell_type": "code",
   "execution_count": 164,
   "metadata": {},
   "outputs": [
    {
     "name": "stderr",
     "output_type": "stream",
     "text": [
      "100%|██████████| 500/500 [01:16<00:00,  6.52it/s]\n"
     ]
    },
    {
     "ename": "",
     "evalue": "",
     "output_type": "error",
     "traceback": [
      "\u001b[1;31m在目前儲存格或上一個儲存格中執行程式碼時，Kernel 已損毀。請檢閱儲存格中的程式碼，找出失敗的可能原因。如需詳細資訊，請按一下<a href='https://aka.ms/vscodeJupyterKernelCrash'>這裡</a>。檢視 Jupyter <a href='command:jupyter.viewOutput'>記錄</a>，以取得進一步的詳細資料。"
     ]
    }
   ],
   "source": [
    "# from tqdm import tqdm\n",
    "# import networkx as nx\n",
    "# import os\n",
    "# import pickle\n",
    "# from Generate_poison_data import Generate_ACFG_Node_Attributes, Append_temp_nodes\n",
    "\n",
    "# target_path = '/home/ycchiu/git-rep/CFGE2BA/CFGExplainer/data_testing/padded_test/Malware/'\n",
    "# important_path = '/home/ycchiu/git-rep/CFGE2BA/CFGExplainer/poison_interpretability_results/Malware'\n",
    "# summary_dir = '/mnt/bigDisk/leon/rtools/CFGs/x86'\n",
    "# Malware_files = []\n",
    "\n",
    "# with open(target_path + \"/0_list.txt\", \"r\") as f:\n",
    "#     for line in f.readlines():\n",
    "#         Malware_files.append(line.strip()[:-8])\n",
    "# f.close()\n",
    "\n",
    "# for filename in tqdm(Malware_files):\n",
    "    \n",
    "#     ## read importance_score and top_blocks\n",
    "#     score_path = os.path.join(important_path, filename, 'importance_score.pickle')\n",
    "#     importance_score = read_pickle(score_path)\n",
    "#     top_path = os.path.join(important_path, filename, 'top_blocks.pickle')\n",
    "#     top_blocks = read_pickle(top_path)\n",
    "\n",
    "#     file_path = os.path.join(summary_dir, filename)\n",
    "#     G = nx.read_gpickle(file_path + '.pickle')\n",
    "#     orignal_num_nodes= G.number_of_nodes()\n",
    "#     for block in top_blocks:        \n",
    "#         ## if top block not in G continue \n",
    "#         if block >= orignal_num_nodes:\n",
    "#             continue\n",
    "#         ## if size of G not enough to partition or the importance_score in block is 0 then break  \n",
    "#         if G.number_of_nodes() + 10 > 512 or importance_score[block].numpy()[0] == 0.0:               \n",
    "#             break\n",
    "#         G = Partition_Node(G, block)  \n",
    "#     ACFG = Generate_ACFG_Node_Attributes(G)\n",
    "#     if ACFG.number_of_nodes() < 512:\n",
    "#         ACFG = Append_temp_nodes(ACFG)\n",
    "#     nx.write_gpickle(ACFG, '/home/ycchiu/git-rep/CFGE2BA/CFGExplainer/Partition_samples/padded_test/Malware/' + filename + \".gpickle\")"
   ]
  },
  {
   "cell_type": "code",
   "execution_count": 1,
   "metadata": {},
   "outputs": [],
   "source": [
    "def read_pickle(path):\n",
    "    with open(path, 'rb') as file:\n",
    "        data = pickle.load(file)\n",
    "    f.close()\n",
    "    return data"
   ]
  },
  {
   "cell_type": "code",
   "execution_count": 2,
   "metadata": {},
   "outputs": [],
   "source": [
    "def Generate_Trigger_Partition_Graph(times=3): \n",
    "    \"\"\"\"\n",
    "    times = Trigger times\n",
    "    \"\"\"\n",
    "    Trigger = nx.read_gpickle('/home/ycchiu/git-rep/CFGE2BA/CFGExplainer/trigger/trigger.gpickle')\n",
    "    T = Trigger\n",
    "    cnt = 0\n",
    "    mapping = {}\n",
    "    for T_node in T.nodes(data=False):\n",
    "        mapping[T_node] = cnt\n",
    "        cnt += 1\n",
    "    start_point = 6\n",
    "    end_point = 10\n",
    "\n",
    "    T = nx.relabel_nodes(T, mapping)\n",
    "    for _ in range(times - 1):\n",
    "        cnt = len(T.nodes())\n",
    "        T =  nx.union(T, Trigger)\n",
    "        T.add_edge(end_point, 'Trigger_Node_6')\n",
    "\n",
    "        mapping = {}\n",
    "        \n",
    "        for T_node in Trigger.nodes(data=False):\n",
    "            mapping[T_node] = cnt\n",
    "            if str(T_node)== 'Trigger_Node_10':\n",
    "                end_point = cnt\n",
    "            cnt += 1\n",
    "        T = nx.relabel_nodes(T, mapping)\n",
    "    ## relabel trigger node\n",
    "    mapping = {}\n",
    "    for T_node in T.nodes(data=False):\n",
    "        mapping[T_node] = 'Partition_Node_'+ str(T_node)\n",
    "        if T_node == start_point:\n",
    "            start_point = 'Partition_Node_'+ str(T_node)\n",
    "        if T_node == end_point:\n",
    "            end_point = 'Partition_Node_'+ str(T_node)\n",
    "    \n",
    "    T = nx.relabel_nodes(T, mapping)\n",
    "    return T, start_point, end_point"
   ]
  },
  {
   "cell_type": "code",
   "execution_count": 3,
   "metadata": {},
   "outputs": [],
   "source": [
    "def Trigger_Partition_Node(G, node, times):\n",
    "    part_edges = [i[1] for i in list(G.edges(node))]\n",
    "    part_inedges = [i[0] for i in list(G.in_edges(node))]\n",
    "    \n",
    "    PGraph, start_point, end_point = Generate_Trigger_Partition_Graph(times)\n",
    "    \n",
    "    mapping = {}\n",
    "    newnode = G.number_of_nodes()\n",
    "    for P_node in PGraph.nodes(data=False):\n",
    "        if str(P_node) == start_point:\n",
    "            mapping[P_node] = node\n",
    "        else:\n",
    "            mapping[P_node] = newnode\n",
    "            newnode += 1\n",
    "    CFG =  nx.union(G, PGraph)\n",
    "    \n",
    "    ## add edge to PGraph\n",
    "    for part_edge in part_edges:\n",
    "        CFG.add_edge(end_point, part_edge)\n",
    "    for part_inedge in part_inedges:\n",
    "        CFG.add_edge(part_inedge, start_point)\n",
    "\n",
    "    ## remove node\n",
    "    CFG.remove_node(node)\n",
    "    CFG = nx.relabel_nodes(CFG, mapping) \n",
    "    return CFG"
   ]
  },
  {
   "cell_type": "code",
   "execution_count": 10,
   "metadata": {},
   "outputs": [
    {
     "name": "stderr",
     "output_type": "stream",
     "text": [
      "100%|██████████| 500/500 [00:51<00:00,  9.72it/s]\n"
     ]
    },
    {
     "ename": "",
     "evalue": "",
     "output_type": "error",
     "traceback": [
      "\u001b[1;31m在目前儲存格或上一個儲存格中執行程式碼時，Kernel 已損毀。請檢閱儲存格中的程式碼，找出失敗的可能原因。如需詳細資訊，請按一下<a href='https://aka.ms/vscodeJupyterKernelCrash'>這裡</a>。檢視 Jupyter <a href='command:jupyter.viewOutput'>記錄</a>，以取得進一步的詳細資料。"
     ]
    }
   ],
   "source": [
    "from tqdm import tqdm\n",
    "import networkx as nx\n",
    "import os\n",
    "import pickle\n",
    "from Generate_poison_data import Generate_ACFG_Node_Attributes, Append_temp_nodes\n",
    "\n",
    "target_path = '/home/ycchiu/git-rep/CFGE2BA/CFGExplainer/data_testing/padded_test/Malware/'\n",
    "important_path = '/home/ycchiu/git-rep/CFGE2BA/CFGExplainer/poison_interpretability_results/Malware'\n",
    "summary_dir = '/mnt/bigDisk/leon/rtools/CFGs/x86'\n",
    "Malware_files = []\n",
    "num_parts = {}\n",
    "times = 1\n",
    "\n",
    "with open(target_path + \"/0_list.txt\", \"r\") as f:\n",
    "    for line in f.readlines():\n",
    "        Malware_files.append(line.strip()[:-8])\n",
    "f.close()\n",
    "orignal_num_nodes = []\n",
    "for filename in tqdm(Malware_files):\n",
    "    \n",
    "    ## read importance_score and top_blocks\n",
    "    score_path = os.path.join(important_path, filename, 'importance_score.pickle')\n",
    "    importance_score = read_pickle(score_path)\n",
    "    top_path = os.path.join(important_path, filename, 'top_blocks.pickle')\n",
    "    top_blocks = read_pickle(top_path)\n",
    "\n",
    "    file_path = os.path.join(summary_dir, filename)\n",
    "    G = nx.read_gpickle(file_path + '.pickle')\n",
    "    ACFG = Generate_ACFG_Node_Attributes(G)    \n",
    "    orignal_num_nodes = ACFG.number_of_nodes()\n",
    "    for block in top_blocks[:15]:        \n",
    "        ## if top block not in G continue \n",
    "        if block >= orignal_num_nodes:\n",
    "            continue\n",
    "        num_part_node= (11 * times) - 1 \n",
    "        ## if size of G not enough to partition or the importance_score in block is 0 then break  \n",
    "        if ACFG.number_of_nodes() + num_part_node > 512 or importance_score[block].numpy()[0] == 0.0:      ## 3 trigger and remove 1 node (11*3-1) = 32        \n",
    "            break\n",
    "        ACFG = Trigger_Partition_Node(ACFG, block, times)\n",
    "        \n",
    "    if ACFG.number_of_nodes() < 512:\n",
    "        ACFG = Append_temp_nodes(ACFG)\n",
    "    nx.write_gpickle(ACFG, '/home/ycchiu/git-rep/CFGE2BA/CFGExplainer/Trigger_Partition_samples/padded_test/Malware/' + filename + \".gpickle\")"
   ]
  },
  {
   "cell_type": "code",
   "execution_count": 4,
   "metadata": {},
   "outputs": [
    {
     "name": "stderr",
     "output_type": "stream",
     "text": [
      "100%|██████████| 500/500 [05:56<00:00,  1.40it/s]\n"
     ]
    }
   ],
   "source": [
    "from tqdm import tqdm\n",
    "import networkx as nx\n",
    "import os\n",
    "import pickle\n",
    "from Generate_poison_data import Generate_ACFG_Node_Attributes, Append_temp_nodes, Add_Trigger_to_ACFG\n",
    "\n",
    "target_path = '/home/ycchiu/git-rep/CFGE2BA/CFGExplainer/data_testing/padded_test/Malware/'\n",
    "important_path = '/home/ycchiu/git-rep/CFGE2BA/CFGExplainer/poison_interpretability_results/Malware'\n",
    "summary_dir = '/mnt/bigDisk/leon/rtools/CFGs/x86'\n",
    "trigger_path = './trigger/trigger.gpickle'\n",
    "Malware_files = []\n",
    "num_parts = {}\n",
    "times = 13\n",
    "\n",
    "with open(target_path + \"/0_list.txt\", \"r\") as f:\n",
    "    for line in f.readlines():\n",
    "        Malware_files.append(line.strip()[:-8])\n",
    "f.close()\n",
    "\n",
    "AddT_TP_cnt = 0\n",
    "Add_Node_cnt = []\n",
    "for filename in tqdm(Malware_files):\n",
    "    \n",
    "    ## read importance_score and top_blocks\n",
    "    score_path = os.path.join(important_path, filename, 'importance_score.pickle')\n",
    "    importance_score = read_pickle(score_path)\n",
    "    top_path = os.path.join(important_path, filename, 'top_blocks.pickle')\n",
    "    top_blocks = read_pickle(top_path)\n",
    "\n",
    "    file_path = os.path.join(summary_dir, filename)\n",
    "    G = nx.read_gpickle(file_path + '.pickle')\n",
    "    ACFG = Generate_ACFG_Node_Attributes(G)\n",
    "    orignal_num_nodes = ACFG.number_of_nodes()\n",
    "\n",
    "    ## Inject trigger \n",
    "    starting_point = 0\n",
    "    for _ in range(times):\n",
    "        if ACFG.number_of_nodes() + 11 > 512:    ## trigger size = 11 edges = 17\n",
    "            # mal_node_cnt += 1\n",
    "            print('Not enough!')\n",
    "            break\n",
    "        ACFG, starting_point = Add_Trigger_to_ACFG(ACFG, trigger_path, starting_point)    \n",
    "    \n",
    "    ## Use Trigger to Partition    \n",
    "    for block in top_blocks[:15]:        \n",
    "        ## if top block not in G continue \n",
    "        if block >= orignal_num_nodes:\n",
    "            continue\n",
    "        num_part_node= (11 * times) - 1 \n",
    "        ## if size of G not enough to partition or the importance_score in block is 0 then break  \n",
    "        if ACFG.number_of_nodes() + num_part_node > 512 or importance_score[block].numpy()[0] == 0.0:      ## 3 trigger and remove 1 node (11*3-1) = 32\n",
    "            AddT_TP_cnt += 1\n",
    "            break\n",
    "        ACFG = Trigger_Partition_Node(ACFG, block, times)\n",
    "    Add_Node_cnt.append(ACFG.number_of_nodes() - orignal_num_nodes)\n",
    "    if ACFG.number_of_nodes() < 512:\n",
    "        ACFG = Append_temp_nodes(ACFG)\n",
    "    nx.write_gpickle(ACFG, '/home/ycchiu/git-rep/CFGE2BA/CFGExplainer/AddTrigger_Trigger_Partition_samples/padded_test/Malware/' + filename + \".gpickle\")"
   ]
  },
  {
   "cell_type": "code",
   "execution_count": 6,
   "metadata": {},
   "outputs": [
    {
     "name": "stdout",
     "output_type": "stream",
     "text": [
      "Avg num of Add node 478 206.332\n"
     ]
    },
    {
     "ename": "",
     "evalue": "",
     "output_type": "error",
     "traceback": [
      "\u001b[1;31m在目前儲存格或上一個儲存格中執行程式碼時，Kernel 已損毀。請檢閱儲存格中的程式碼，找出失敗的可能原因。如需詳細資訊，請按一下<a href='https://aka.ms/vscodeJupyterKernelCrash'>這裡</a>。檢視 Jupyter <a href='command:jupyter.viewOutput'>記錄</a>，以取得進一步的詳細資料。"
     ]
    }
   ],
   "source": [
    "print('Avg num of Add node', AddT_TP_cnt, sum(Add_Node_cnt)/500)"
   ]
  },
  {
   "attachments": {},
   "cell_type": "markdown",
   "metadata": {},
   "source": [
    "1 :  33, 133.52\n",
    "2 : 342, 191.512\n",
    "3 : 401, 216.168\n",
    "4 : 413, 218.924\n",
    "5 : 457, 217.54\n",
    "6 : 462, 239.03\n",
    "7 : 462, 218.208\n",
    "8 : 468, 228.244\n",
    "9 : 468, 244.236\n",
    "10: 475, 192.84\n",
    "11: 475, 203.08\n",
    "12: 478, 206.408\n",
    "13: 478, 206.332"
   ]
  },
  {
   "cell_type": "code",
   "execution_count": null,
   "metadata": {},
   "outputs": [],
   "source": []
  }
 ],
 "metadata": {
  "kernelspec": {
   "display_name": "ycc3",
   "language": "python",
   "name": "python3"
  },
  "language_info": {
   "codemirror_mode": {
    "name": "ipython",
    "version": 3
   },
   "file_extension": ".py",
   "mimetype": "text/x-python",
   "name": "python",
   "nbconvert_exporter": "python",
   "pygments_lexer": "ipython3",
   "version": "3.8.5"
  },
  "orig_nbformat": 4,
  "vscode": {
   "interpreter": {
    "hash": "a1e9a2ec6f83c31261138e1f46ad2074fe78ef006d81e8b7b9cd49b918c29c0b"
   }
  }
 },
 "nbformat": 4,
 "nbformat_minor": 2
}
