{
 "cells": [
  {
   "attachments": {},
   "cell_type": "markdown",
   "metadata": {},
   "source": [
    "### 50 malware data  pickle2gpickle"
   ]
  },
  {
   "cell_type": "code",
   "execution_count": 15,
   "metadata": {},
   "outputs": [],
   "source": [
    "# import os\n",
    "# import networkx as nx\n",
    "\n",
    "# # 目標目錄的路徑\n",
    "# directory_path = \"/home/luoder/CFGEmulate/CFGs/mal\"\n",
    "\n",
    "# # 列出目錄下的所有檔案\n",
    "# file_list = os.listdir(directory_path)\n",
    "\n",
    "\n",
    "# # 遍歷檔案列表\n",
    "# for filename in file_list[:50]:\n",
    "#     file_path = os.path.join(directory_path, filename)    \n",
    "#     # 讀入pickle檔\n",
    "#     G = nx.read_gpickle(file_path)\n",
    "#     # 將圖形寫出為gpickle檔\n",
    "#     nx.write_gpickle(G, \"./Graph/mal/\" + filename[:-7]+\".gpickle\")"
   ]
  },
  {
   "attachments": {},
   "cell_type": "markdown",
   "metadata": {},
   "source": [
    "### 50 benign dataset pickle2gpickle"
   ]
  },
  {
   "cell_type": "code",
   "execution_count": 16,
   "metadata": {},
   "outputs": [],
   "source": [
    "# import os\n",
    "# import networkx as nx\n",
    "\n",
    "# # 目標目錄的路徑\n",
    "# directory_path = \"/home/luoder/CFGEmulate/CFGs/benign\"\n",
    "\n",
    "# # 列出目錄下的所有檔案\n",
    "# file_list = os.listdir(directory_path)\n",
    "\n",
    "\n",
    "# # 遍歷檔案列表\n",
    "# for filename in file_list[:50]:\n",
    "#     file_path = os.path.join(directory_path, filename)\n",
    "#     # 在這裡做您想做的事情，例如讀取檔案內容，或其他處理\n",
    "    \n",
    "#     # 讀入pickle檔\n",
    "#     G = nx.read_gpickle(file_path)\n",
    "#     # 將圖形寫出為gpickle檔\n",
    "#     nx.write_gpickle(G, \"./Graph/ben/\" + filename[:-7]+\".gpickle\")"
   ]
  },
  {
   "attachments": {},
   "cell_type": "markdown",
   "metadata": {},
   "source": [
    "### ACFG"
   ]
  },
  {
   "cell_type": "code",
   "execution_count": 7,
   "metadata": {},
   "outputs": [],
   "source": [
    "# import networkx as nx\n",
    "\n",
    "# # 讀取gpickle檔\n",
    "# ACFG = nx.read_gpickle(\"/home/ycchiu/git-rep/CFGExplainer_Test/CFGExplainer/data/padded_test/Benign/padded_39d29eca4034091841eb7e7c1cb5126d.gpickle\")\n",
    "\n",
    "# # 查看節點資料結構\n",
    "# node_data = dict(ACFG.nodes(data=True))\n",
    "\n",
    "# # 遍歷節點資料，輸出節點ID和節點屬性\n",
    "# for node_id, node_attributes in node_data.items():\n",
    "#     print(\"Node ID:\", node_id)\n",
    "#     print(\"Node Attributes:\", node_attributes)\n",
    "#     # break"
   ]
  },
  {
   "cell_type": "code",
   "execution_count": 8,
   "metadata": {},
   "outputs": [],
   "source": [
    "# ACFG.nodes['_memcpy(4219412)']"
   ]
  },
  {
   "cell_type": "code",
   "execution_count": 223,
   "metadata": {},
   "outputs": [],
   "source": [
    "# ACFG.nodes(data = False)"
   ]
  },
  {
   "cell_type": "code",
   "execution_count": 235,
   "metadata": {},
   "outputs": [],
   "source": [
    "# import networkx as nx\n",
    "\n",
    "# # 讀取gpickle檔\n",
    "# G = nx.read_gpickle(\"/home/ycchiu/git-rep/CFGExplainer_Test/Graph/ben/00aff87a3176cb89982a7da61be9b8b7ee718be202d12f387a7c988bb031b773.gpickle\")\n",
    "\n",
    "# # 查看節點資料結構\n",
    "# node_data = dict(G.nodes(data=True))\n",
    "\n",
    "# # 遍歷節點資料，輸出節點ID和節點屬性\n",
    "# for node_id, node_attributes in node_data.items():\n",
    "#     print(\"Node ID:\", node_id)\n",
    "#     print(\"Node Attributes:\", node_attributes)\n",
    "#     # print(\"bName:\", node_attributes['bName'])"
   ]
  },
  {
   "cell_type": "code",
   "execution_count": 9,
   "metadata": {},
   "outputs": [],
   "source": [
    "import os\n",
    "import networkx as nx"
   ]
  },
  {
   "cell_type": "code",
   "execution_count": 3,
   "metadata": {},
   "outputs": [
    {
     "data": {
      "text/plain": [
       "606"
      ]
     },
     "execution_count": 3,
     "metadata": {},
     "output_type": "execute_result"
    }
   ],
   "source": [
    "G = nx.read_gpickle(\"/mnt/bigDisk/leon/rtools/CFGs/x86/0000e2fed3bad7d994fd0a25003269ce4531d636a21cec204021754bc16ae5fe.pickle\")\n",
    "G_1 = nx.MultiDiGraph(G)\n",
    "nx.number_of_nodes(G_1)"
   ]
  },
  {
   "cell_type": "code",
   "execution_count": null,
   "metadata": {},
   "outputs": [],
   "source": [
    "import os\n",
    "import networkx as nx\n",
    "\n",
    "# 目標目錄的路徑\n",
    "directory_path = \"/mnt/bigDisk/leon/rtools/CFGs/x86\"\n",
    "\n",
    "# 列出目錄下的所有檔案\n",
    "file_list = os.listdir(directory_path)\n",
    "\n",
    "\n",
    "# 遍歷檔案列表\n",
    "for filename in file_list[:50]:\n",
    "    file_path = os.path.join(directory_path, filename)\n",
    "    # 在這裡做您想做的事情，例如讀取檔案內容，或其他處理\n",
    "    \n",
    "    # 讀入pickle檔\n",
    "    G = nx.read_gpickle(file_path)\n",
    "    # 將圖形寫出為gpickle檔\n",
    "    nx.write_gpickle(G, \"./Graph/ben/\" + filename[:-7]+\".gpickle\")"
   ]
  },
  {
   "cell_type": "code",
   "execution_count": 2,
   "metadata": {},
   "outputs": [
    {
     "data": {
      "text/html": [
       "<div>\n",
       "<style scoped>\n",
       "    .dataframe tbody tr th:only-of-type {\n",
       "        vertical-align: middle;\n",
       "    }\n",
       "\n",
       "    .dataframe tbody tr th {\n",
       "        vertical-align: top;\n",
       "    }\n",
       "\n",
       "    .dataframe thead th {\n",
       "        text-align: right;\n",
       "    }\n",
       "</style>\n",
       "<table border=\"1\" class=\"dataframe\">\n",
       "  <thead>\n",
       "    <tr style=\"text-align: right;\">\n",
       "      <th></th>\n",
       "      <th>filename</th>\n",
       "      <th>label</th>\n",
       "      <th>threshold</th>\n",
       "      <th>arch</th>\n",
       "    </tr>\n",
       "  </thead>\n",
       "  <tbody>\n",
       "    <tr>\n",
       "      <th>0</th>\n",
       "      <td>6727b9dcc9db82a3de5096edfdc873aa0f6e8e3c28704d...</td>\n",
       "      <td>Mirai</td>\n",
       "      <td>True</td>\n",
       "      <td>unknown</td>\n",
       "    </tr>\n",
       "    <tr>\n",
       "      <th>1</th>\n",
       "      <td>67a4ecd639251923637abf87927a2d000e5ed795c45bba...</td>\n",
       "      <td>Bashlite</td>\n",
       "      <td>True</td>\n",
       "      <td>armel</td>\n",
       "    </tr>\n",
       "    <tr>\n",
       "      <th>2</th>\n",
       "      <td>67978fe14bbaa973412f5fd2d80bf8cf5205607004e0c4...</td>\n",
       "      <td>Mirai</td>\n",
       "      <td>True</td>\n",
       "      <td>armel</td>\n",
       "    </tr>\n",
       "    <tr>\n",
       "      <th>3</th>\n",
       "      <td>67c690b32b2d8667f0931952dcafb36c498f167cf355ff...</td>\n",
       "      <td>Unknown</td>\n",
       "      <td>False</td>\n",
       "      <td>x86el</td>\n",
       "    </tr>\n",
       "    <tr>\n",
       "      <th>4</th>\n",
       "      <td>6737cb775774a9c0f3991a0b563c86f73402c9ae46751c...</td>\n",
       "      <td>Mirai</td>\n",
       "      <td>True</td>\n",
       "      <td>ppceb</td>\n",
       "    </tr>\n",
       "    <tr>\n",
       "      <th>...</th>\n",
       "      <td>...</td>\n",
       "      <td>...</td>\n",
       "      <td>...</td>\n",
       "      <td>...</td>\n",
       "    </tr>\n",
       "    <tr>\n",
       "      <th>279882</th>\n",
       "      <td>1e21f6257122dbb017de24aa2329c94157833dd17455a7...</td>\n",
       "      <td>BenignWare</td>\n",
       "      <td>None</td>\n",
       "      <td>mipseb</td>\n",
       "    </tr>\n",
       "    <tr>\n",
       "      <th>279883</th>\n",
       "      <td>1e36b2e47f6a8c41d4849404d72d4bd808c62bcc8df0a3...</td>\n",
       "      <td>BenignWare</td>\n",
       "      <td>None</td>\n",
       "      <td>armel</td>\n",
       "    </tr>\n",
       "    <tr>\n",
       "      <th>279884</th>\n",
       "      <td>1e33231803460d942dbbf0477da5db71f211b0e887e55c...</td>\n",
       "      <td>BenignWare</td>\n",
       "      <td>None</td>\n",
       "      <td>mips64eb</td>\n",
       "    </tr>\n",
       "    <tr>\n",
       "      <th>279885</th>\n",
       "      <td>1ed5d0037e5b51e4040fa1ecdf5983138a041470c8d04c...</td>\n",
       "      <td>BenignWare</td>\n",
       "      <td>None</td>\n",
       "      <td>mipseb</td>\n",
       "    </tr>\n",
       "    <tr>\n",
       "      <th>279886</th>\n",
       "      <td>1e4cad30707cac46b87df75b5248b495004911e351417f...</td>\n",
       "      <td>BenignWare</td>\n",
       "      <td>None</td>\n",
       "      <td>mipseb</td>\n",
       "    </tr>\n",
       "  </tbody>\n",
       "</table>\n",
       "<p>279887 rows × 4 columns</p>\n",
       "</div>"
      ],
      "text/plain": [
       "                                                 filename       label  \\\n",
       "0       6727b9dcc9db82a3de5096edfdc873aa0f6e8e3c28704d...       Mirai   \n",
       "1       67a4ecd639251923637abf87927a2d000e5ed795c45bba...    Bashlite   \n",
       "2       67978fe14bbaa973412f5fd2d80bf8cf5205607004e0c4...       Mirai   \n",
       "3       67c690b32b2d8667f0931952dcafb36c498f167cf355ff...     Unknown   \n",
       "4       6737cb775774a9c0f3991a0b563c86f73402c9ae46751c...       Mirai   \n",
       "...                                                   ...         ...   \n",
       "279882  1e21f6257122dbb017de24aa2329c94157833dd17455a7...  BenignWare   \n",
       "279883  1e36b2e47f6a8c41d4849404d72d4bd808c62bcc8df0a3...  BenignWare   \n",
       "279884  1e33231803460d942dbbf0477da5db71f211b0e887e55c...  BenignWare   \n",
       "279885  1ed5d0037e5b51e4040fa1ecdf5983138a041470c8d04c...  BenignWare   \n",
       "279886  1e4cad30707cac46b87df75b5248b495004911e351417f...  BenignWare   \n",
       "\n",
       "       threshold      arch  \n",
       "0           True   unknown  \n",
       "1           True     armel  \n",
       "2           True     armel  \n",
       "3          False     x86el  \n",
       "4           True     ppceb  \n",
       "...          ...       ...  \n",
       "279882      None    mipseb  \n",
       "279883      None     armel  \n",
       "279884      None  mips64eb  \n",
       "279885      None    mipseb  \n",
       "279886      None    mipseb  \n",
       "\n",
       "[279887 rows x 4 columns]"
      ]
     },
     "execution_count": 2,
     "metadata": {},
     "output_type": "execute_result"
    }
   ],
   "source": [
    "import pandas as pd\n",
    "desc_fpath = '/mnt/bigDisk/dataset/dataset.csv'\n",
    "\n",
    "names = {'filename': str, 'label': str, 'threshold': str, 'arch': str}\n",
    "desc_df = pd.read_csv(desc_fpath, names=list(names.keys()), dtype = names, skiprows=1)\n",
    "desc_df"
   ]
  },
  {
   "cell_type": "code",
   "execution_count": 77,
   "metadata": {},
   "outputs": [],
   "source": [
    "summary_dir = '/mnt/bigDisk/leon/rtools/CFGs/x86'\n",
    "fpaths = [os.path.join(summary_dir, f) for f in os.listdir(summary_dir)]\n",
    "fnames = [os.path.splitext(f)[0] for f in os.listdir(summary_dir)]\n",
    "\n",
    "match_df = desc_df[desc_df['filename'].isin(fnames)]\n",
    "Benign_df = match_df[~(match_df['label'].isin(['BenignWare']))]\n",
    "# match_df"
   ]
  },
  {
   "cell_type": "code",
   "execution_count": 34,
   "metadata": {},
   "outputs": [
    {
     "name": "stdout",
     "output_type": "stream",
     "text": [
      "c90f17ad1228d31fa691e9c5c1fd1f941fad8d9b3092ec2b74fd2f12c5099a8b\n",
      "c9d08bb1857bde29b11faa6b4fd8879c274ff6819e45aad66f9701f2c27c76a5\n",
      "c9b6b72e1afc095ba98ff59f0dcc1fe13c6bf4d1a2c2581209e6f3b092693463\n",
      "c94e96b53e6c3f53ee5fb69ac9d6a96f8067d3a7e7aaf8dbbadbf0966043d0bb\n",
      "c9f7f5f8a0c9eb5f3ae662da5ddc11a2fe9188ea6fae6c56926c2db4cbf94667\n",
      "c93a14158498a33cdf3f6d49a9498d0140fcb769595f2fc0a719b13a4186fbd0\n",
      "c9499cd719699bd97bda21ac889110d4af64f0088199d8120a1f908061217578\n",
      "c996d793de6312baf02d2e7882a7261187ffed554bf3f9093521ca1ffba3775c\n",
      "c971d4adb92f11e7a465fa922bce2ef09a4a2fd15d926563e4da9e643995fe1e\n",
      "c97c7896420bb851681fdaace4d822818334eef83fe938f87cac1769592b9117\n",
      "c9dd89c6f931955c61744efdafb8283fdd5aa123bf5c072bbbe61c965ab36139\n",
      "c95d050a6ab527afcd62f98694a5e96dd13671559cb3d16776c39c5f0f5c2403\n",
      "c904f43a2281f09c60867c287051167aed0ed51f4b97c0e5e58a4be6d5b75bc4\n",
      "c92776210854fae82bf07f0e8b086d7ae519295a6a3118501bce202e36cad6b9\n",
      "c964acb3628c1756f94d74205c87bfc9b34ffec91e7051385229ec05b3bbe7db\n",
      "c9d49d124e86b59f43f2e5147a1ed8377efb575fb72401b4099e15688a8447ae\n",
      "c932b7f6835b64c1ea3711840793569453e5d01563c0e9fd587ff623ca788b26\n",
      "c989b4a376e6ef45696f977aef5fe44d13d9d1aadd59abb9ce4b13b3827945ae\n",
      "c99b91fd3bc041cfcdf8d8d36eac24724afa4883dbe3b970fbc5348f200213f5\n",
      "c90557779d9679dbd02ab3023d84eb59c3b76fbc89ac05eb3a9321ab436df43d\n",
      "c97b74e1f7302adbc424016065b6f4c6ce668e40bb38fa3369e5b707a45785f0\n"
     ]
    },
    {
     "name": "stderr",
     "output_type": "stream",
     "text": [
      "/tmp/ipykernel_1717542/4164188262.py:1: FutureWarning: The behavior of `series[i:j]` with an integer-dtype index is deprecated. In a future version, this will be treated as *label-based* indexing, consistent with e.g. `series[i]` lookups. To retain the old behavior, use `series.iloc[i:j]`. To get the future behavior, use `series.loc[i:j]`.\n",
      "  for f in match_df[(match_df['label'].isin(['BenignWare']))]['filename'][:21]:\n"
     ]
    }
   ],
   "source": [
    "for f in match_df[(match_df['label'].isin(['BenignWare']))]['filename'][:21]:\n",
    "    print(f)"
   ]
  },
  {
   "cell_type": "code",
   "execution_count": 87,
   "metadata": {},
   "outputs": [],
   "source": [
    "# ## Generate 0_list\n",
    "\n",
    "# import glob\n",
    "\n",
    "# # 指定目錄路徑\n",
    "# dir_path = \"/home/ycchiu/git-rep/CFGExplainer_Test/ACFGs/Test/Benign\"\n",
    "\n",
    "# # 指定檔案類型\n",
    "# file_type = \"*.gpickle\"\n",
    "\n",
    "# # 開啟要寫入的檔案\n",
    "# with open(dir_path + \"/0_list.txt\", \"w\") as f:\n",
    "#     # 使用 glob 模塊取得指定類型的檔案列表\n",
    "#     file_list = glob.glob(os.path.join(dir_path, file_type))\n",
    "#     # 遍歷檔案列表，將檔案名稱寫入檔案\n",
    "#     for filename in file_list:\n",
    "#         f.write(os.path.basename(filename) + \"\\n\")\n"
   ]
  },
  {
   "cell_type": "code",
   "execution_count": 67,
   "metadata": {},
   "outputs": [
    {
     "name": "stderr",
     "output_type": "stream",
     "text": [
      "/tmp/ipykernel_1717542/1894676545.py:7: FutureWarning: The behavior of `series[i:j]` with an integer-dtype index is deprecated. In a future version, this will be treated as *label-based* indexing, consistent with e.g. `series[i]` lookups. To retain the old behavior, use `series.iloc[i:j]`. To get the future behavior, use `series.loc[i:j]`.\n",
      "  for filename in match_df[(match_df['label'].isin(['BenignWare']))]['filename'][20:100]:\n"
     ]
    },
    {
     "ename": "KeyboardInterrupt",
     "evalue": "",
     "output_type": "error",
     "traceback": [
      "\u001b[0;31m---------------------------------------------------------------------------\u001b[0m",
      "\u001b[0;31mKeyboardInterrupt\u001b[0m                         Traceback (most recent call last)",
      "Cell \u001b[0;32mIn [67], line 13\u001b[0m\n\u001b[1;32m     11\u001b[0m G \u001b[39m=\u001b[39m nx\u001b[39m.\u001b[39mread_gpickle(file_path \u001b[39m+\u001b[39m \u001b[39m\"\u001b[39m\u001b[39m.pickle\u001b[39m\u001b[39m\"\u001b[39m)\n\u001b[1;32m     12\u001b[0m G_1 \u001b[39m=\u001b[39m nx\u001b[39m.\u001b[39mMultiDiGraph(G)    \n\u001b[0;32m---> 13\u001b[0m list_Betweenness \u001b[39m=\u001b[39m \u001b[39mlist\u001b[39m(nx\u001b[39m.\u001b[39;49mbetweenness_centrality(G_1)\u001b[39m.\u001b[39mvalues())\n\u001b[1;32m     14\u001b[0m \u001b[39mfor\u001b[39;00m node \u001b[39min\u001b[39;00m G_1\u001b[39m.\u001b[39mnodes(data\u001b[39m=\u001b[39m\u001b[39mFalse\u001b[39;00m):\n\u001b[1;32m     15\u001b[0m     G_1\u001b[39m.\u001b[39mnodes[node][\u001b[39m'\u001b[39m\u001b[39mStart\u001b[39m\u001b[39m'\u001b[39m] \u001b[39m=\u001b[39m \u001b[39mint\u001b[39m(G_1\u001b[39m.\u001b[39mnodes[node][\u001b[39m'\u001b[39m\u001b[39mx\u001b[39m\u001b[39m'\u001b[39m][\u001b[39m0\u001b[39m][\u001b[39m0\u001b[39m]\u001b[39m.\u001b[39msplit(\u001b[39m'\u001b[39m\u001b[39m[\u001b[39m\u001b[39m'\u001b[39m)[\u001b[39m0\u001b[39m], \u001b[39m16\u001b[39m)\n",
      "File \u001b[0;32m<class 'networkx.utils.decorators.argmap'> compilation 13:4\u001b[0m, in \u001b[0;36margmap_betweenness_centrality_10\u001b[0;34m(G, k, normalized, weight, endpoints, seed)\u001b[0m\n\u001b[1;32m      2\u001b[0m \u001b[39mimport\u001b[39;00m \u001b[39mcollections\u001b[39;00m\n\u001b[1;32m      3\u001b[0m \u001b[39mimport\u001b[39;00m \u001b[39mgzip\u001b[39;00m\n\u001b[0;32m----> 4\u001b[0m \u001b[39mimport\u001b[39;00m \u001b[39minspect\u001b[39;00m\n\u001b[1;32m      5\u001b[0m \u001b[39mimport\u001b[39;00m \u001b[39mitertools\u001b[39;00m\n\u001b[1;32m      6\u001b[0m \u001b[39mimport\u001b[39;00m \u001b[39mre\u001b[39;00m\n",
      "File \u001b[0;32m~/anaconda3/envs/ycc1/lib/python3.8/site-packages/networkx/algorithms/centrality/betweenness.py:130\u001b[0m, in \u001b[0;36mbetweenness_centrality\u001b[0;34m(G, k, normalized, weight, endpoints, seed)\u001b[0m\n\u001b[1;32m    127\u001b[0m \u001b[39mfor\u001b[39;00m s \u001b[39min\u001b[39;00m nodes:\n\u001b[1;32m    128\u001b[0m     \u001b[39m# single source shortest paths\u001b[39;00m\n\u001b[1;32m    129\u001b[0m     \u001b[39mif\u001b[39;00m weight \u001b[39mis\u001b[39;00m \u001b[39mNone\u001b[39;00m:  \u001b[39m# use BFS\u001b[39;00m\n\u001b[0;32m--> 130\u001b[0m         S, P, sigma, _ \u001b[39m=\u001b[39m _single_source_shortest_path_basic(G, s)\n\u001b[1;32m    131\u001b[0m     \u001b[39melse\u001b[39;00m:  \u001b[39m# use Dijkstra's algorithm\u001b[39;00m\n\u001b[1;32m    132\u001b[0m         S, P, sigma, _ \u001b[39m=\u001b[39m _single_source_dijkstra_path_basic(G, s, weight)\n",
      "File \u001b[0;32m~/anaconda3/envs/ycc1/lib/python3.8/site-packages/networkx/algorithms/centrality/betweenness.py:271\u001b[0m, in \u001b[0;36m_single_source_shortest_path_basic\u001b[0;34m(G, s)\u001b[0m\n\u001b[1;32m    269\u001b[0m Dv \u001b[39m=\u001b[39m D[v]\n\u001b[1;32m    270\u001b[0m sigmav \u001b[39m=\u001b[39m sigma[v]\n\u001b[0;32m--> 271\u001b[0m \u001b[39mfor\u001b[39;00m w \u001b[39min\u001b[39;00m G[v]:\n\u001b[1;32m    272\u001b[0m     \u001b[39mif\u001b[39;00m w \u001b[39mnot\u001b[39;00m \u001b[39min\u001b[39;00m D:\n\u001b[1;32m    273\u001b[0m         Q\u001b[39m.\u001b[39mappend(w)\n",
      "\u001b[0;31mKeyboardInterrupt\u001b[0m: "
     ]
    }
   ],
   "source": [
    "import os\n",
    "import networkx as nx\n",
    "\n",
    "# 目標目錄的路徑\n",
    "directory_path = \"/mnt/bigDisk/leon/rtools/CFGs/x86\"\n",
    "\n",
    "for filename in match_df[(match_df['label'].isin(['BenignWare']))]['filename'][20:100]:\n",
    "    file_path = os.path.join(directory_path, filename)    \n",
    "    \n",
    "    # 讀入pickle檔\n",
    "    G = nx.read_gpickle(file_path + \".pickle\")\n",
    "    G_1 = nx.MultiDiGraph(G)    \n",
    "    list_Betweenness = list(nx.betweenness_centrality(G_1).values())\n",
    "    for node in G_1.nodes(data=False):\n",
    "        G_1.nodes[node]['Start'] = int(G_1.nodes[node]['x'][0][0].split('[')[0], 16)\n",
    "        G_1.nodes[node]['End'] = int(G_1.nodes[node]['x'][-1][0].split('[')[0], 16)\n",
    "        G_1.nodes[node]['Next'] = [int(G_1.nodes[nextnode[1]]['x'][0][0].split('[')[0], 16) for nextnode in list(G_1.edges(node))]\n",
    "        G_1.nodes[node]['Ins'] = [(int(ins[0].split('[')[0], 16), [ins[1].split(' ')[0], ins[1][len(ins[1].split(' ')[0]) + 1:]]) for ins in G_1.nodes[node]['x']]\n",
    "        G_1.nodes[node]['Prev'] = [int(G_1.nodes[prevnode[0]]['x'][-1][0].split('[')[0], 16) for prevnode in list(G_1.in_edges(node))]\n",
    "        feat = [0.0] * 8\n",
    "        no_transfer, no_calls, no_arithmetic = handle_ins(G_1.nodes[node]['x'])\n",
    "        no_Ins = len(G_1.nodes[node]['x'])\n",
    "        Betweenness = list_Betweenness[node]\n",
    "        no_offspring = len(G_1.nodes[node]['Next'])\n",
    "        feat[2], feat[3], feat[4], feat[5] = float(no_transfer), float(no_calls), float(no_Ins), float(no_arithmetic)\n",
    "        feat[6], feat[7] = float(no_offspring), Betweenness\n",
    "        G_1.nodes[node]['feat'] = feat\n",
    "          \n",
    "    # 將圖形寫出為gpickle檔\n",
    "    nx.write_gpickle(G_1, \"./ACFGs/Benign/\" + filename+\".gpickle\")"
   ]
  },
  {
   "cell_type": "code",
   "execution_count": 20,
   "metadata": {},
   "outputs": [],
   "source": [
    "def in_ins_list(instruction, ins_list):\n",
    "    \"\"\"\n",
    "    判断当前指令是否在指令列表中\n",
    "    :param instruction:\n",
    "    :param ins_list:\n",
    "    :return:\n",
    "    \"\"\"\n",
    "    instruction = instruction.split( )\n",
    "    opcode = instruction[0].lower()\n",
    "    # for ins in ins_list:\n",
    "    #     if ins in opcode:\n",
    "    #         return True\n",
    "    # return False\n",
    "    if opcode in ins_list:\n",
    "        return True\n",
    "    return False\n",
    "\n",
    "\n",
    "def handle_ins(insns):\n",
    "    \"\"\"\n",
    "    统计基本块中指令类型的数量\n",
    "    :param insns:\n",
    "    :return:\n",
    "    \"\"\"\n",
    "    # transfer_ins = ['MOV', 'PUSH', 'POP', 'XCHG', 'IN', 'OUT', 'XLAT', 'LEA', 'LDS', 'LES', 'LAHF', 'SAHF', 'PUSHF', 'POPF']\n",
    "    # arithmetic_ins = ['ADD', 'SUB', 'MUL', 'DIV', 'XOR', 'INC', 'DEC', 'IMUL', 'IDIV', 'OR', 'NOT', 'SLL', 'SRL', 'SAR', 'SAL', 'ADC', 'CMP', 'NEG', 'SBB']\n",
    "    \n",
    "\n",
    "    transfer_ins = ['mov', 'movabs', 'push', 'xchg', 'in', 'out', 'xlat', 'pop', 'lb', 'lbu', 'lh', 'lw', 'sb', 'sh', 'sw', 'ldc', 'les', 'lea', 'lahf', 'sahf', 'pushf', 'popf', \n",
    "    'lds', 'restore', 'lswi', 'sts', 'usp', 'srs', 'pea', 'lui', 'lhu', 'rdcycle', 'rdtime', 'rdinstret']\n",
    "    arithmetic_ins = ['add', 'sub', 'inc', 'xor', 'sar', 'addi', 'addiu', 'addu', 'and', 'ldr', 'andi', 'nor', 'or', 'ori', 'subu', 'xori', 'div', 'divu', 'mfhi', 'mflo', 'mthi', 'mtlo', \n",
    "    'mult', 'multu', 'sll', 'sllv', 'sra', 'srav', 'srl', 'srlv', 'bic', 'xnor', 'not', 'eor', 'asr', 'fabs', 'abs', 'mac', 'neg', 'cmp', 'test', 'slti', 'slt', 'sltu', 'sltui', \n",
    "    'sltiu', 'cmn', 'fcmp', 'dcbi', 'tas', 'btst', 'cbw', 'cwde', 'cdqe', 'cdq', 'slli', 'srli', 'srai', 'auipc', 'adc', 'sbb', 'mul', 'dec', 'imul', 'idiv', 'sal']\n",
    "    calls_ins = ['CALL']\n",
    "    ctl = ['jmp', 'jz', 'jnz', 'je', 'jne', 'call', 'jr', 'beq', 'bge', 'bgeu', 'bgez', 'bgezal', 'bgtz', 'blez', 'blt', 'bltu', 'bltz', 'bltzal', 'bne', 'break', 'j', 'jal', \n",
    "    'jalr', 'mfc0', 'mtc0', 'syscall', 'leave', 'hvc', 'svc', 'hlt', 'arpl', 'sys', 'ti', 'trap', 'ret', 'retn', 'bl', 'bicc', 'bclr', 'bsrf', 'rte', 'wait', 'fwait', 'wfe', \n",
    "    'ecall', 'ebreak', 'jb', 'jbe']\n",
    "\n",
    "    no_transfer = 0\n",
    "    no_arithmetic = 0\n",
    "    no_calls = 0\n",
    "    for ins in insns:\n",
    "        ins_name = ins[1]\n",
    "        if in_ins_list(ins_name, transfer_ins):\n",
    "            no_transfer = no_transfer + 1\n",
    "        if in_ins_list(ins_name, arithmetic_ins):\n",
    "            no_arithmetic = no_arithmetic + 1\n",
    "        if in_ins_list(ins_name, calls_ins):\n",
    "            no_calls = no_calls + 1\n",
    "    return no_transfer, no_calls, no_arithmetic"
   ]
  },
  {
   "cell_type": "code",
   "execution_count": 66,
   "metadata": {},
   "outputs": [],
   "source": [
    "list_Betweenness = list(nx.betweenness_centrality(G_1).values())\n",
    "for node in G_1.nodes(data=False):\n",
    "    G_1.nodes[node]['Start'] = int(G_1.nodes[node]['x'][0][0].split('[')[0], 16)\n",
    "    G_1.nodes[node]['End'] = int(G_1.nodes[node]['x'][-1][0].split('[')[0], 16)\n",
    "    G_1.nodes[node]['Next'] = [int(G_1.nodes[nextnode[1]]['x'][0][0].split('[')[0], 16) for nextnode in list(G_1.edges(node))]\n",
    "    G_1.nodes[node]['Ins'] = [(int(ins[0].split('[')[0], 16), [ins[1].split(' ')[0], ins[1][len(ins[1].split(' ')[0]) + 1:]]) for ins in G_1.nodes[node]['x']]\n",
    "    G_1.nodes[node]['Prev'] = [int(G_1.nodes[prevnode[0]]['x'][-1][0].split('[')[0], 16) for prevnode in list(G_1.in_edges(node))]\n",
    "    feat = [0.0] * 8\n",
    "    no_transfer, no_calls, no_arithmetic = handle_ins(G_1.nodes[node]['x'])\n",
    "    no_Ins = len(G_1.nodes[node]['x'])\n",
    "    Betweenness = list_Betweenness[node]\n",
    "    no_offspring = len(G_1.nodes[node]['Next'])\n",
    "    feat[2], feat[3], feat[4], feat[5] = float(no_transfer), float(no_calls), float(no_Ins), float(no_arithmetic)\n",
    "    feat[6], feat[7] = float(no_offspring), Betweenness\n",
    "    G_1.nodes[node]['feat'] = feat"
   ]
  },
  {
   "cell_type": "code",
   "execution_count": 2,
   "metadata": {},
   "outputs": [
    {
     "data": {
      "text/plain": [
       "{0: {1: {0: {'jumpkind': 'Ijk_Boring', 'stmt_idx': 25, 'ins_addr': 4198985}},\n",
       "  2: {0: {'jumpkind': 'Ijk_Boring', 'stmt_idx': -2, 'ins_addr': 4198985}}},\n",
       " 1: {},\n",
       " 2: {1: {0: {'jumpkind': 'Ijk_Boring', 'stmt_idx': 14, 'ins_addr': 4198997}},\n",
       "  3: {0: {'jumpkind': 'Ijk_Boring', 'stmt_idx': -2, 'ins_addr': 4198997}}},\n",
       " 3: {}}"
      ]
     },
     "execution_count": 2,
     "metadata": {},
     "output_type": "execute_result"
    }
   ],
   "source": [
    "import os\n",
    "import networkx as nx\n",
    "\n",
    "# Test_G = nx.read_gpickle(\"/home/ycchiu/git-rep/CFGExplainer_Test/CFGExplainer/data/padded_train/Benign/c9bfde785fb56a987a53a6605aef06337d3e551298e5747bdd589d377fd35ae9.gpickle\")\n",
    "# # G_1 = nx.MultiDiGraph(G)\n",
    "# Test_G._succ\n",
    "filename = \"./CFGExplainer/data/padded_train/Benign/c9bfde785fb56a987a53a6605aef06337d3e551298e5747bdd589d377fd35ae9.gpickle\"\n",
    "graph = nx.read_gpickle(filename)\n",
    "graph._succ"
   ]
  },
  {
   "cell_type": "code",
   "execution_count": 63,
   "metadata": {},
   "outputs": [
    {
     "data": {
      "text/plain": [
       "{'bName': '0x4025e0[6]',\n",
       " 'x': [['0x4025e0', 'jmp qword ptr [rip + 0x203a9a]']],\n",
       " 'Start': 4204000,\n",
       " 'End': 4204000,\n",
       " 'Next': [7340168],\n",
       " 'Ins': [(4204000, ['jmp', 'qword ptr [rip + 0x203a9a]'])],\n",
       " 'Prev': [4204728],\n",
       " 'feat': [0.0, 0.0, 0.0, 0.0, 1.0, 0.0, 1.0, 0.001199040767386091]}"
      ]
     },
     "execution_count": 63,
     "metadata": {},
     "output_type": "execute_result"
    }
   ],
   "source": [
    "G_1.nodes[1]"
   ]
  },
  {
   "cell_type": "code",
   "execution_count": 61,
   "metadata": {},
   "outputs": [
    {
     "data": {
      "text/plain": [
       "OutMultiEdgeDataView([(472, 473)])"
      ]
     },
     "execution_count": 61,
     "metadata": {},
     "output_type": "execute_result"
    }
   ],
   "source": [
    "G_1.edges(472)"
   ]
  },
  {
   "cell_type": "code",
   "execution_count": 69,
   "metadata": {},
   "outputs": [
    {
     "name": "stderr",
     "output_type": "stream",
     "text": [
      "100%|██████████| 10/10 [00:00<00:00, 37216.54it/s]"
     ]
    },
    {
     "name": "stdout",
     "output_type": "stream",
     "text": [
      "0\n",
      "1\n",
      "2\n",
      "3\n",
      "4\n",
      "5\n",
      "6\n",
      "7\n",
      "8\n",
      "9\n"
     ]
    },
    {
     "name": "stderr",
     "output_type": "stream",
     "text": [
      "\n"
     ]
    }
   ],
   "source": [
    "from tqdm import tqdm\n",
    "a = [ i for _ in range(10)]\n",
    "for i in tqdm(a):\n",
    "    print(i)"
   ]
  },
  {
   "cell_type": "code",
   "execution_count": 8,
   "metadata": {},
   "outputs": [
    {
     "name": "stdout",
     "output_type": "stream",
     "text": [
      "4690\n"
     ]
    }
   ],
   "source": [
    "import os\n",
    "import networkx as nx\n",
    "import glob\n",
    "\n",
    "# 目標目錄的路徑\n",
    "directory_path = \"/home/ycchiu/git-rep/CFGExplainer_Test/CFGExplainer/data/padded_train/Benign_orignal\"\n",
    "\n",
    "# 指定檔案類型\n",
    "file_type = \"*.gpickle\"\n",
    "\n",
    "# 使用 glob 模塊取得指定類型的檔案列表\n",
    "file_list = glob.glob(os.path.join(directory_path, file_type))\n",
    "\n",
    "# 遍歷檔案列表，載入 pickle 檔案\n",
    "for filename in file_list:\n",
    "    file_path = os.path.join(directory_path, filename)\n",
    "\n",
    "    # 讀入pickle檔\n",
    "    G = nx.read_gpickle(file_path)\n",
    "    print(len(G.nodes(data=False)))\n",
    "    break"
   ]
  },
  {
   "cell_type": "code",
   "execution_count": 15,
   "metadata": {},
   "outputs": [
    {
     "data": {
      "text/plain": [
       "{'feat': [0, 0, 0, 0, 0, 0, 0, 0, 0, 0, 0, 0, 0]}"
      ]
     },
     "execution_count": 15,
     "metadata": {},
     "output_type": "execute_result"
    }
   ],
   "source": [
    "G.nodes['temp_node_22']"
   ]
  },
  {
   "cell_type": "code",
   "execution_count": 17,
   "metadata": {},
   "outputs": [
    {
     "name": "stdout",
     "output_type": "stream",
     "text": [
      "4\n",
      "652\n",
      "6122\n",
      "1473\n",
      "4\n",
      "113\n",
      "4\n",
      "4\n",
      "1377\n",
      "34\n",
      "3\n",
      "266\n",
      "4\n",
      "4\n",
      "3\n",
      "4\n",
      "3\n",
      "4\n",
      "4\n",
      "3\n",
      "3\n",
      "4\n",
      "4\n",
      "4\n",
      "4\n",
      "4\n",
      "4\n",
      "1\n",
      "10055\n",
      "1820\n",
      "7139\n",
      "123\n",
      "3\n",
      "478\n",
      "4\n",
      "4\n",
      "4\n",
      "4\n",
      "1\n",
      "184\n",
      "2388\n",
      "4\n",
      "4\n",
      "4\n",
      "9\n",
      "3\n",
      "4\n",
      "193\n",
      "4\n",
      "4\n",
      "4\n",
      "3517\n",
      "3\n",
      "4\n",
      "123\n",
      "4\n",
      "1023\n",
      "4\n",
      "4\n",
      "565\n",
      "2142\n",
      "557\n",
      "4\n",
      "3\n",
      "4\n",
      "7616\n",
      "4\n",
      "20\n",
      "4\n",
      "1\n",
      "1145\n",
      "4\n",
      "9413\n",
      "3\n",
      "4\n",
      "4\n",
      "835\n",
      "451\n",
      "4\n",
      "651\n",
      "4\n",
      "5136\n",
      "3\n",
      "4\n",
      "4\n",
      "4\n",
      "4\n",
      "2870\n",
      "3\n",
      "3499\n",
      "3\n",
      "4\n",
      "3\n",
      "4\n",
      "184\n",
      "3\n",
      "4\n",
      "4\n",
      "4\n",
      "3\n"
     ]
    }
   ],
   "source": [
    "import os\n",
    "import networkx as nx\n",
    "import glob\n",
    "\n",
    "# 目標目錄的路徑\n",
    "directory_path = \"/home/ycchiu/git-rep/CFGExplainer_Test/CFGExplainer/data/padded_train/Benign\"\n",
    "\n",
    "# 指定檔案類型\n",
    "file_type = \"*.gpickle\"\n",
    "\n",
    "# 使用 glob 模塊取得指定類型的檔案列表\n",
    "file_list = glob.glob(os.path.join(directory_path, file_type))\n",
    "\n",
    "# 遍歷檔案列表，載入 pickle 檔案\n",
    "for filename in file_list:\n",
    "    file_path = os.path.join(directory_path, filename)\n",
    "\n",
    "    # 讀入pickle檔\n",
    "    G = nx.read_gpickle(file_path)\n",
    "    # print(len(G.nodes(data=False)))"
   ]
  },
  {
   "cell_type": "code",
   "execution_count": null,
   "metadata": {},
   "outputs": [],
   "source": [
    "import networkx as nx\n",
    "import os\n",
    "import glob\n",
    "\n",
    "# 空节点的属性\n",
    "new_node_attrs = {'feat': [0]*13}\n",
    "\n",
    "# 遍历所有gpickle文件\n",
    "for filename in os.listdir('graphs'):\n",
    "    if filename.endswith('.gpickle'):\n",
    "        # 从gpickle文件中读取图形\n",
    "        graph = nx.read_gpickle(os.path.join('graphs', filename))\n",
    "\n",
    "        # 如果节点数小于4096，则添加新节点\n",
    "        while len(graph.nodes()) < 4096:\n",
    "            new_node = len(graph.nodes())\n",
    "            graph.add_node(new_node)\n",
    "            nx.set_node_attributes(graph, new_node_attrs)\n",
    "\n",
    "        # 将更新后的图形保存回gpickle文件\n",
    "        nx.write_gpickle(graph, os.path.join('graphs', filename))"
   ]
  },
  {
   "cell_type": "code",
   "execution_count": 3,
   "metadata": {},
   "outputs": [],
   "source": [
    "import networkx as nx\n",
    "import os\n",
    "\n",
    "# 目標目錄的路徑\n",
    "directory_path = \"/home/ycchiu/git-rep/CFGE2BA/CFGExplainer/data/padded_train/Malware_100\"\n",
    "target_path = \"/home/ycchiu/git-rep/CFGE2BA/CFGExplainer/data/padded_train/Malware\"\n",
    "\n",
    "# 空节点的属性\n",
    "new_node_attrs = {'feat': [0] * 8}\n",
    "\n",
    "# 用于存储节点数为4096的图形文件名的列表\n",
    "graph_filenames = []\n",
    "graphs = [] \n",
    "\n",
    "# 遍历所有gpickle文件\n",
    "for filename in os.listdir(directory_path):\n",
    "    if filename.endswith('.gpickle'):\n",
    "        # 从gpickle文件中读取图形\n",
    "        graph = nx.read_gpickle(os.path.join(directory_path, filename))\n",
    "\n",
    "        if len(graph.nodes()) <= 4096:\n",
    "            for node in graph.nodes(data=False):\n",
    "                if 'bName' in graph.nodes[node]:\n",
    "                    del graph.nodes[node]['bName']\n",
    "                if 'x' in graph.nodes[node]:\n",
    "                    del graph.nodes[node]['x']\n",
    "\n",
    "            # 如果节点数小于4096，则添加新节点\n",
    "            while len(graph.nodes()) < 4096:\n",
    "                new_node = \"temp_node_\" + str(len(graph.nodes()))\n",
    "                graph.add_node(new_node)\n",
    "                # nx.set_node_attributes(graph, new_node_attrs)\n",
    "                graph.nodes[new_node]['feat'] = [0] * 8\n",
    "\n",
    "            # 如果图形的节点数为4096，则将其文件名添加到列表中\n",
    "            if len(graph.nodes()) == 4096:\n",
    "                graph_filenames.append(filename)\n",
    "                graphs.append(graph)\n",
    "                break\n",
    "                \n",
    "                # 将更新后的图形保存回gpickle文件\n",
    "                # nx.write_gpickle(graph, os.path.join(target_path, filename))\n",
    "\n",
    "# 将所有节点数为4096的图形文件名写入0_list.txt文件\n",
    "# with open(target_path + '/0_list_' + str(len(graph_filenames)) + '.txt', 'w') as f:\n",
    "#     f.write('\\n'.join(graph_filenames))"
   ]
  },
  {
   "cell_type": "code",
   "execution_count": 4,
   "metadata": {},
   "outputs": [
    {
     "data": {
      "text/plain": [
       "4096"
      ]
     },
     "execution_count": 4,
     "metadata": {},
     "output_type": "execute_result"
    }
   ],
   "source": [
    "len(graph.nodes())"
   ]
  },
  {
   "cell_type": "code",
   "execution_count": 23,
   "metadata": {},
   "outputs": [
    {
     "name": "stdout",
     "output_type": "stream",
     "text": [
      "904\n"
     ]
    }
   ],
   "source": [
    "import sys\n",
    "\n",
    "# 計算記憶體使用量\n",
    "print(sys.getsizeof(graphs))"
   ]
  },
  {
   "cell_type": "code",
   "execution_count": 25,
   "metadata": {},
   "outputs": [
    {
     "name": "stdout",
     "output_type": "stream",
     "text": [
      "520\n"
     ]
    }
   ],
   "source": [
    "import sys\n",
    "\n",
    "# 計算記憶體使用量\n",
    "print(sys.getsizeof(graphs))"
   ]
  },
  {
   "cell_type": "code",
   "execution_count": 2,
   "metadata": {},
   "outputs": [],
   "source": [
    "import networkx as nx\n",
    "graph = nx.read_gpickle(\"/home/ycchiu/git-rep/CFGE2BA/CFGExplainer/ACFGs/Poison/Malware/cacdca3a25aff73ce688ae8cf8e6c39898978701da8fcce743cf0e2fe1e3c260.gpickle\")"
   ]
  },
  {
   "cell_type": "code",
   "execution_count": 10,
   "metadata": {},
   "outputs": [
    {
     "data": {
      "text/plain": [
       "OutMultiEdgeDataView([(0, 1), (0, 59)])"
      ]
     },
     "execution_count": 10,
     "metadata": {},
     "output_type": "execute_result"
    }
   ],
   "source": [
    "graph.edges(0)"
   ]
  },
  {
   "cell_type": "code",
   "execution_count": null,
   "metadata": {},
   "outputs": [],
   "source": []
  }
 ],
 "metadata": {
  "kernelspec": {
   "display_name": "ycc3",
   "language": "python",
   "name": "python3"
  },
  "language_info": {
   "codemirror_mode": {
    "name": "ipython",
    "version": 3
   },
   "file_extension": ".py",
   "mimetype": "text/x-python",
   "name": "python",
   "nbconvert_exporter": "python",
   "pygments_lexer": "ipython3",
   "version": "3.8.5"
  },
  "orig_nbformat": 4
 },
 "nbformat": 4,
 "nbformat_minor": 2
}
